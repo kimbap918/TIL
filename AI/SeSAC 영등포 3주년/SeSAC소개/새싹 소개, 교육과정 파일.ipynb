{
  "nbformat": 4,
  "nbformat_minor": 0,
  "metadata": {
    "colab": {
      "provenance": []
    },
    "kernelspec": {
      "name": "python3",
      "display_name": "Python 3"
    },
    "language_info": {
      "name": "python"
    }
  },
  "cells": [
    {
      "cell_type": "code",
      "source": [
        "import requests\n",
        "import bs4\n",
        "import re\n",
        "\n",
        "def get_data(url):\n",
        "    response = requests.get(url)\n",
        "    data = response.text\n",
        "    return data\n",
        "\n",
        "def get_intro(url):\n",
        "    # 소개글 가져오기\n",
        "    data_intro = get_data(url)\n",
        "    # BeautifulSoup 객체 생성\n",
        "    soup = bs4.BeautifulSoup(data_intro, \"html.parser\")\n",
        "    # 원하는 부분만 추출\n",
        "    text = soup.find(\"div\", class_=\"ssac_intro\").text\n",
        "    # 불필요한 정보 제거\n",
        "    text = re.sub(r\"<[^>]*>\", \"\", text)\n",
        "    text = text.split(\"\\n\")\n",
        "\n",
        "    # 내용을 따로 담기\n",
        "    contents = []\n",
        "    for line in text:\n",
        "        if line != \"\":\n",
        "            contents.append(line.rstrip(\"\\r\\t\").replace(\"\\t\", \" \"))\n",
        "\n",
        "    # 저장\n",
        "    with open(\"새싹_소개글.txt\", \"w\") as f:\n",
        "        for content in contents:\n",
        "            f.write(content + \"\\n\")\n",
        "\n",
        "def main():\n",
        "    # 소개글 가져오기\n",
        "    get_intro(\"http://ssac.seoul.kr/common/menu/html/900006001001/detail.do;jsessionid=F0E2081B0601681A90555BA0F28ACFD1\")\n",
        "\n",
        "if __name__ == \"__main__\":\n",
        "    main()\n"
      ],
      "metadata": {
        "id": "HxafBDQ-esZI"
      },
      "execution_count": 20,
      "outputs": []
    },
    {
      "cell_type": "code",
      "source": [
        "!pip install selenium"
      ],
      "metadata": {
        "colab": {
          "base_uri": "https://localhost:8080/"
        },
        "id": "MeVh_0pTyiy_",
        "outputId": "775f0e6f-ed22-49d8-d9bc-23c85c133881"
      },
      "execution_count": 65,
      "outputs": [
        {
          "output_type": "stream",
          "name": "stdout",
          "text": [
            "Collecting selenium\n",
            "  Downloading selenium-4.14.0-py3-none-any.whl (9.9 MB)\n",
            "\u001b[2K     \u001b[90m━━━━━━━━━━━━━━━━━━━━━━━━━━━━━━━━━━━━━━━━\u001b[0m \u001b[32m9.9/9.9 MB\u001b[0m \u001b[31m50.5 MB/s\u001b[0m eta \u001b[36m0:00:00\u001b[0m\n",
            "\u001b[?25hRequirement already satisfied: urllib3[socks]<3,>=1.26 in /usr/local/lib/python3.10/dist-packages (from selenium) (2.0.6)\n",
            "Collecting trio~=0.17 (from selenium)\n",
            "  Downloading trio-0.22.2-py3-none-any.whl (400 kB)\n",
            "\u001b[2K     \u001b[90m━━━━━━━━━━━━━━━━━━━━━━━━━━━━━━━━━━━━━━━━\u001b[0m \u001b[32m400.2/400.2 kB\u001b[0m \u001b[31m31.1 MB/s\u001b[0m eta \u001b[36m0:00:00\u001b[0m\n",
            "\u001b[?25hCollecting trio-websocket~=0.9 (from selenium)\n",
            "  Downloading trio_websocket-0.11.1-py3-none-any.whl (17 kB)\n",
            "Requirement already satisfied: certifi>=2021.10.8 in /usr/local/lib/python3.10/dist-packages (from selenium) (2023.7.22)\n",
            "Requirement already satisfied: attrs>=20.1.0 in /usr/local/lib/python3.10/dist-packages (from trio~=0.17->selenium) (23.1.0)\n",
            "Requirement already satisfied: sortedcontainers in /usr/local/lib/python3.10/dist-packages (from trio~=0.17->selenium) (2.4.0)\n",
            "Requirement already satisfied: idna in /usr/local/lib/python3.10/dist-packages (from trio~=0.17->selenium) (3.4)\n",
            "Collecting outcome (from trio~=0.17->selenium)\n",
            "  Downloading outcome-1.2.0-py2.py3-none-any.whl (9.7 kB)\n",
            "Requirement already satisfied: sniffio in /usr/local/lib/python3.10/dist-packages (from trio~=0.17->selenium) (1.3.0)\n",
            "Requirement already satisfied: exceptiongroup>=1.0.0rc9 in /usr/local/lib/python3.10/dist-packages (from trio~=0.17->selenium) (1.1.3)\n",
            "Collecting wsproto>=0.14 (from trio-websocket~=0.9->selenium)\n",
            "  Downloading wsproto-1.2.0-py3-none-any.whl (24 kB)\n",
            "Requirement already satisfied: pysocks!=1.5.7,<2.0,>=1.5.6 in /usr/local/lib/python3.10/dist-packages (from urllib3[socks]<3,>=1.26->selenium) (1.7.1)\n",
            "Collecting h11<1,>=0.9.0 (from wsproto>=0.14->trio-websocket~=0.9->selenium)\n",
            "  Downloading h11-0.14.0-py3-none-any.whl (58 kB)\n",
            "\u001b[2K     \u001b[90m━━━━━━━━━━━━━━━━━━━━━━━━━━━━━━━━━━━━━━━━\u001b[0m \u001b[32m58.3/58.3 kB\u001b[0m \u001b[31m7.1 MB/s\u001b[0m eta \u001b[36m0:00:00\u001b[0m\n",
            "\u001b[?25hInstalling collected packages: outcome, h11, wsproto, trio, trio-websocket, selenium\n",
            "Successfully installed h11-0.14.0 outcome-1.2.0 selenium-4.14.0 trio-0.22.2 trio-websocket-0.11.1 wsproto-1.2.0\n"
          ]
        }
      ]
    },
    {
      "cell_type": "code",
      "source": [
        "import requests\n",
        "from bs4 import BeautifulSoup\n",
        "\n",
        "url = \"http://ssac.seoul.kr/course/active/offline001/list.do\"\n",
        "response = requests.get(url)\n",
        "soup = BeautifulSoup(response.text, \"html.parser\")\n",
        "\n",
        "# edu_on_li 클래스를 가진 ul 태그에서 정보를 가져옴\n",
        "course_infos = []\n",
        "for lis in soup.find_all(\"ul\", class_=\"edu_on_li\"):\n",
        "    # `lis` 변수를 `li` 태그를 포함하는 리스트로 변환\n",
        "    lis = lis.find_all(\"li\")\n",
        "    for li_tag in lis:\n",
        "        # div class=\"ct on\" 태그에서 정보를 가져옴\n",
        "        inner_tag = li_tag.find(\"div\", class_=\"inner\")\n",
        "\n",
        "        # `inner_tag` 변수가 `None` 객체인지 확인\n",
        "        if inner_tag is not None:\n",
        "            # `inner_tag` 변수가 `None` 객체가 아니면 학습대상, 신청기간, 교육기간, 과정목표를 추출.\n",
        "            target_info = inner_tag.find(\"ul\", class_=\"info\").text.replace(\"\\n\", \"\")\n",
        "            course_name = inner_tag.find(\"p\", class_=\"title\").text\n",
        "\n",
        "            # 딕셔너리를 리스트에 추가\n",
        "            course_infos.append([course_name, target_info])\n",
        "\n",
        "print(course_infos)\n",
        "\n",
        "# 리스트를 txt 파일로 저장\n",
        "with open(\"새싹_교육과정.txt\", \"w\") as f:\n",
        "    for course_info in course_infos:\n",
        "        f.write(\"과정명: {}\\n학습대상: {}\\n\".format(course_info[0], course_info[1]))\n"
      ],
      "metadata": {
        "colab": {
          "base_uri": "https://localhost:8080/"
        },
        "id": "NfV2qnn32SvK",
        "outputId": "515a6af8-331d-4e56-bcd2-670707e0254b"
      },
      "execution_count": 100,
      "outputs": [
        {
          "output_type": "stream",
          "name": "stdout",
          "text": [
            "[['(영등포5기) iOS 앱 개발자 데뷔 과정 PLUS', '학습대상분야별 기초지식(레벨)을 갖춘 만 15세 이상의 서울시민 (수강신청일 기준 15세 이상/서울 거주 시민)과정 수료 직후 개발자로서 일자리(취·창업) 활동을 하고자 하는 분신청기간2023-05-01 ~ 2023-06-30교육기간2023-07-17 ~ 2024-01-17과정목표하단 교육 내용을 참고해주세요!* 문의 사항은 sesac@memolease.com 로 연락 부탁드립니다.'], ['(영등포5기_채용연계형) 빅데이터 분석가 양성 과정', '학습대상▶ 만 15세 이상의 서울 시민(최종 합격시 등본 확인 필수)\\u200b▶ 교육 수료 직후 취업 활동을 하실 분\\u200b  ※ 고용 보험 가입자(재직자)는 신청 불가신청기간2023-05-01 ~ 2023-06-30교육기간2023-07-17 ~ 2023-10-27과정목표데이터 관련 분야에 취업을 원하는 청년들에게 전문교육 및 실무경험 기회를 제공하여 데이터 분야 전문 인재로 양성데이터 관련 기초 지식 및기획, 분석, 시각화 기술의 역량 목표에 따른 단계적 학습'], ['(영등포5기) 언리얼엔진을 활용한 메타버스 SW개발자 양성과정', '학습대상▶ 만 15세 이상 서울시민(최종 합격시 등본 확인 필수)\\u200b▶ 학습에 대한 의지가 있으신 분\\u200b▶ 교육수료 후 취업 또는 창업을 희망하시는 분\\u200b▶예치금- 무료, 단 예치금 20만원을 선납하고 수료(교육 시간의 80% 이상을 이수 또는 교육시간의 30% 이상을 이수한 이후 조기 취업한 경우) 후 반환함- 과정별 진도율 5% 미만 과정 이탈 시 반환하며, 그 이상 과정 중 수료 기준에 미달하는 경우 예치금은 반환되지 않음신청기간2023-05-01 ~ 2023-06-30교육기간2023-07-17 ~ 2024-01-16과정목표C++ 프로그래밍 능력과 언리얼엔진 프로그래밍 능력 함양VR,PC 등 멀티플랫폼 콘텐츠 제작능력 함양시스템 설계 및 메타버스 플랫폼 제작능력 함양 / 디버깅 능력 함양메타버스 콘텐츠 기획능력 함양메타버스 구현을 위한 VFX 제작능력 함양 / 디지털 휴먼 제작능력 함양'], ['(영등포5기) 백엔드 구축을 위한 클라우드 기술 활용 개발자 과정 (JAVA기반)', '학습대상▶ 모집대상📌서울시 거주 만 15세 이상 구직자라면 누구나 신청 가능합니다.📌백엔드 개발 직무에 관심이 있고 전문성을 키우고 싶다면 지금 도전하세요!※ 최종합격 시 주민등록등본 제출신청기간2023-05-01 ~ 2023-06-30교육기간2023-07-17 ~ 2023-11-17과정목표SW 개발 분야 취업준비, 포트폴리오부터 막힌다면,나에게 맞는 직무 아직 잘 모르겠다면!▶클라우드 기술 활용 백엔드 구축 개발자 양성과정으로 고민해결!📌 강사진 전원 10년 이상 현직자들로 구성된 [백엔드 개발자 취업스쿨]에서 갓벽하게 데뷔하세요.경력같은 신입 개발자, 대체불가 개발자 성장의 기회 놓치지 마세요!'], ['(영등포5기)AI 응용 전문인력 양성', '학습대상(2차 모집 기간)1차 모집 기간 내 지원한 지원자를 우선 선발하며, 그 이후 지원자에 대해서는 개별적으로 레벨테스트 및 면접 일정에 대해 안내드릴 예정입니다.▶ 만 15세 이상 서울시민(최종 합격시 등본 확인 필수)\\u200b▶ 학습에 대한 의지가 있으신 분\\u200b▶ 교육수료 후 취업 또는 창업을 희망하시는 분\\u200b▶예치금- 무료, 단 예치금 20만원을 선납하고 수료(교육 시간의 80% 이상을 이수 또는 교육시간의 30% 이상을 이수한 이후 조기 취업한 경우) 후 반환함- 과정별 진도율 5% 미만 과정 이탈 시 반환하며, 그 이상 과정 중 수료 기준에 미달하는 경우 예치금은 반환되지 않음신청기간2023-05-01 ~ 2023-06-30교육기간2023-07-17 ~ 2023-12-29과정목표기업의 문제를 해결하고 비즈니스 프로세스를 개선하는 AI 전문가 양성'], ['(영등포5기)비전공자, 입문자도 가능한 웹 개발자 부트캠프', '학습대상▶ 만 15세 이상 서울시민(최종 합격시 등본 확인 필수)\\u200b▶ 학습에 대한 의지가 있으신 분\\u200b▶ 교육수료 후 취업 또는 창업을 희망하시는 분\\u200b▶예치금- 무료, 단 예치금 13만원을 선납하고 수료(교육 시간의 80% 이상을 이수 또는 교육시간의 30% 이상을 이수한 이후 조기 취업한 경우) 후 반환함- 과정별 진도율 5% 미만 과정 이탈 시 반환하며, 그 이상 과정 중 수료 기준에 미달하는 경우 예치금은 반환되지 않음신청기간2023-05-01 ~ 2023-06-30교육기간2023-07-17 ~ 2024-01-19과정목표SW개발 경험이 없는 비전공자 출신도 웹 풀스택 개발자 혹은 SW강사로서 취업가능한 수준의 역량을 갖추도록 함']]\n"
          ]
        }
      ]
    }
  ]
}