{
  "cells": [
    {
      "cell_type": "code",
      "execution_count": null,
      "metadata": {
        "id": "QksIo9NUbTgE"
      },
      "outputs": [],
      "source": [
        "# Google Colab에서 노트북을 실행하실 때에는\n",
        "# https://tutorials.pytorch.kr/beginner/colab 를 참고하세요.\n",
        "%matplotlib inline"
      ]
    },
    {
      "cell_type": "markdown",
      "metadata": {
        "id": "t-8fY99xbTgK"
      },
      "source": [
        "\n",
        "# 기초부터 시작하는 NLP: Sequence to Sequence 네트워크와 Attention을 이용한 번역\n",
        "**Author**: [Sean Robertson](https://github.com/spro/practical-pytorch)\n",
        "  **번역**: [황성수](https://github.com/adonisues)\n",
        "\n",
        "이 튜토리얼은 \"기초부터 시작하는 NLP\"의 세번째이자 마지막 편으로, NLP 모델링 작업을\n",
        "위한 데이터 전처리에 사용할 자체 클래스와 함수들을 작성해보겠습니다.\n",
        "이 튜토리얼을 마친 뒤에는 `torchtext` 가 어떻게 지금까지의 튜토리얼들에서의\n",
        "전처리 과정을 다루는지를 이후 튜토리얼들에서 배울 수 있습니다.\n",
        "\n",
        "이 프로젝트에서는 신경망이 불어를 영어로 번역하도록 가르칠 예정입니다.\n",
        "\n",
        "::\n",
        "\n",
        "    [KEY: > input, = target, < output]\n",
        "\n",
        "    > il est en train de peindre un tableau .\n",
        "    = he is painting a picture .\n",
        "    < he is painting a picture .\n",
        "\n",
        "    > pourquoi ne pas essayer ce vin delicieux ?\n",
        "    = why not try that delicious wine ?\n",
        "    < why not try that delicious wine ?\n",
        "\n",
        "    > elle n est pas poete mais romanciere .\n",
        "    = she is not a poet but a novelist .\n",
        "    < she not not a poet but a novelist .\n",
        "\n",
        "    > vous etes trop maigre .\n",
        "    = you re too skinny .\n",
        "    < you re all alone .\n",
        "\n",
        "... 성공율은 변할 수 있습니다.\n",
        "\n",
        "하나의 시퀀스를 다른 시퀀스로 바꾸는 두개의 RNN이 함께 동작하는\n",
        "[sequence to sequence network](https://arxiv.org/abs/1409.3215)_ 의 간단하지만 강력한 아이디어가\n",
        "이것(번역)을 가능하게 합니다. 인코더 네트워크는 입력 시퀀스를 벡터로 압축하고,\n",
        "디코더 네트워크는 해당 벡터를 새로운 시퀀스로 펼칩니다.\n",
        "\n",
        ".. figure:: /_static/img/seq-seq-images/seq2seq.png\n",
        "   :alt:\n",
        "\n",
        "이 모델을 개선하기 위해 [Attention Mechanism](https://arxiv.org/abs/1409.0473)_ 을\n",
        "사용하면 디코더가 입력 시퀀스의 특정 범위에 집중할 수 있도록 합니다.\n",
        "\n",
        "**추천 자료:**\n",
        "\n",
        "최소한 Pytorch를 설치했고, Python을 알고, Tensor를 이해한다고 가정합니다.:\n",
        "\n",
        "-  http://pytorch.org/ 설치 안내를 위한 자료\n",
        "-  :doc:`/beginner/deep_learning_60min_blitz` 일반적인 PyTorch 시작을 위한 자료\n",
        "-  :doc:`/beginner/pytorch_with_examples` 넓고 깊은 통찰을 위한 자료\n",
        "-  :doc:`/beginner/former_torchies_tutorial` 이전 Lua Torch 사용자를 위한 자료\n",
        "\n",
        "\n",
        "Sequence to Sequence 네트워크와 동작 방법에 관해서 아는 것은 유용합니다:\n",
        "\n",
        "-  [Learning Phrase Representations using RNN Encoder-Decoder for\n",
        "   Statistical Machine Translation](https://arxiv.org/abs/1406.1078)_\n",
        "-  [Sequence to Sequence Learning with Neural\n",
        "   Networks](https://arxiv.org/abs/1409.3215)_\n",
        "-  [Neural Machine Translation by Jointly Learning to Align and\n",
        "   Translate](https://arxiv.org/abs/1409.0473)_\n",
        "-  [A Neural Conversational Model](https://arxiv.org/abs/1506.05869)_\n",
        "\n",
        "이전 튜토리얼에 있는\n",
        ":doc:`/intermediate/char_rnn_classification_tutorial`\n",
        "와 :doc:`/intermediate/char_rnn_generation_tutorial` 는\n",
        "각각 인코더, 디코더 모델과 비슷한 컨센을 가지기 때문에 도움이 됩니다.\n",
        "\n",
        "**요구 사항**\n"
      ]
    },
    {
      "cell_type": "code",
      "execution_count": null,
      "metadata": {
        "id": "PGDNzjjWbTgM"
      },
      "outputs": [],
      "source": [
        "from __future__ import unicode_literals, print_function, division\n",
        "from io import open\n",
        "import unicodedata\n",
        "import string\n",
        "import re\n",
        "import random\n",
        "\n",
        "import torch\n",
        "import torch.nn as nn\n",
        "from torch import optim\n",
        "import torch.nn.functional as F\n",
        "\n",
        "device = torch.device(\"cuda\" if torch.cuda.is_available() else \"cpu\")"
      ]
    },
    {
      "cell_type": "markdown",
      "metadata": {
        "id": "Chuj3fS0bTgM"
      },
      "source": [
        "## 데이터 파일 로딩\n",
        "\n",
        "이 프로젝트의 데이터는 수천 개의 영어-프랑스어 번역 쌍입니다.\n",
        "\n",
        "[Open Data Stack Exchange](https://opendata.stackexchange.com/questions/3888/dataset-of-sentences-translated-into-many-languages)_\n",
        "에 관한 이 질문은 https://tatoeba.org/eng/downloads 에서 다운 로드가 가능한\n",
        "공개 번역 사이트 https://tatoeba.org/ 를 알려 주었습니다. 더 나은 방법으로\n",
        "언어 쌍을 개별 텍스트 파일로 분할하는 추가 작업을 수행한\n",
        "https://www.manythings.org/anki/ 가 있습니다:\n",
        "\n",
        "영어-프랑스어 쌍이 너무 커서 저장소에 포함 할 수 없기 때문에\n",
        "계속하기 전에 ``data/eng-fra.txt`` 로 다운로드하십시오.\n",
        "이 파일은 탭으로 구분된 번역 쌍 목록입니다:\n",
        "\n",
        "::\n",
        "\n",
        "    I am cold.    J'ai froid.\n",
        "\n",
        ".. Note::\n",
        "   [여기](https://download.pytorch.org/tutorial/data.zip)\n",
        "   에서 데이터를 다운 받고 현재 디렉토리에 압축을 푸십시오.\n",
        "\n"
      ]
    },
    {
      "cell_type": "code",
      "source": [
        "!wget https://download.pytorch.org/tutorial/data.zip\n",
        "!unzip data.zip"
      ],
      "metadata": {
        "id": "P_s1E0Ttbg94",
        "outputId": "80ed9c05-e9df-453b-9b75-3ea6bf9ea1b2",
        "colab": {
          "base_uri": "https://localhost:8080/"
        }
      },
      "execution_count": null,
      "outputs": [
        {
          "output_type": "stream",
          "name": "stdout",
          "text": [
            "--2023-09-19 03:13:59--  https://download.pytorch.org/tutorial/data.zip\n",
            "Resolving download.pytorch.org (download.pytorch.org)... 99.86.38.37, 99.86.38.72, 99.86.38.96, ...\n",
            "Connecting to download.pytorch.org (download.pytorch.org)|99.86.38.37|:443... connected.\n",
            "HTTP request sent, awaiting response... 200 OK\n",
            "Length: 2882130 (2.7M) [application/zip]\n",
            "Saving to: ‘data.zip’\n",
            "\n",
            "\rdata.zip              0%[                    ]       0  --.-KB/s               \rdata.zip            100%[===================>]   2.75M  --.-KB/s    in 0.06s   \n",
            "\n",
            "2023-09-19 03:13:59 (45.5 MB/s) - ‘data.zip’ saved [2882130/2882130]\n",
            "\n",
            "Archive:  data.zip\n",
            "   creating: data/\n",
            "  inflating: data/eng-fra.txt        \n",
            "   creating: data/names/\n",
            "  inflating: data/names/Arabic.txt   \n",
            "  inflating: data/names/Chinese.txt  \n",
            "  inflating: data/names/Czech.txt    \n",
            "  inflating: data/names/Dutch.txt    \n",
            "  inflating: data/names/English.txt  \n",
            "  inflating: data/names/French.txt   \n",
            "  inflating: data/names/German.txt   \n",
            "  inflating: data/names/Greek.txt    \n",
            "  inflating: data/names/Irish.txt    \n",
            "  inflating: data/names/Italian.txt  \n",
            "  inflating: data/names/Japanese.txt  \n",
            "  inflating: data/names/Korean.txt   \n",
            "  inflating: data/names/Polish.txt   \n",
            "  inflating: data/names/Portuguese.txt  \n",
            "  inflating: data/names/Russian.txt  \n",
            "  inflating: data/names/Scottish.txt  \n",
            "  inflating: data/names/Spanish.txt  \n",
            "  inflating: data/names/Vietnamese.txt  \n"
          ]
        }
      ]
    },
    {
      "cell_type": "markdown",
      "metadata": {
        "id": "xTPD-kJhbTgM"
      },
      "source": [
        "문자 단위 RNN 튜토리얼에서 사용된 문자 인코딩과 유사하게, 언어의 각\n",
        "단어들을 One-Hot 벡터 또는 그 단어의 주소에만 단 하나의 1을 제외하고\n",
        "모두 0인 큰 벡터로 표현합니다. 한 가지 언어에 있는 수십 개의 문자와\n",
        "달리 번역에는 아주 많은 단어들이 있기 때문에 인코딩 벡터는 매우 더 큽니다.\n",
        "그러나 우리는 약간의 트릭를 써서 언어 당 수천 단어 만\n",
        "사용하도록 데이터를 다듬을 것입니다.\n",
        "\n",
        ".. figure:: /_static/img/seq-seq-images/word-encoding.png\n",
        "   :alt:\n",
        "\n",
        "\n",
        "\n"
      ]
    },
    {
      "cell_type": "markdown",
      "metadata": {
        "id": "8jQqHIAHbTgM"
      },
      "source": [
        "나중에 네트워크의 입력 및 목표로 사용하려면 단어 당 고유 번호가\n",
        "필요합니다. 이 모든 것을 추적하기 위해 우리는\n",
        "단어→색인(``word2index``)과 색인→단어(``index2word``) 사전,\n",
        "그리고 나중에 희귀 단어를 대체하는데 사용할 각 단어의 빈도\n",
        "``word2count`` 를 가진 ``Lang`` 이라는 헬퍼 클래스를 사용합니다.\n",
        "\n",
        "\n"
      ]
    },
    {
      "cell_type": "code",
      "execution_count": null,
      "metadata": {
        "id": "2hCTJZuHbTgM"
      },
      "outputs": [],
      "source": [
        "SOS_token = 0\n",
        "EOS_token = 1\n",
        "\n",
        "\n",
        "class Lang:\n",
        "    def __init__(self, name):\n",
        "        self.name = name\n",
        "        self.word2index = {}\n",
        "        self.word2count = {}\n",
        "        self.index2word = {0: \"SOS\", 1: \"EOS\"}\n",
        "        self.n_words = 2  # SOS 와 EOS 포함\n",
        "\n",
        "    def addSentence(self, sentence):\n",
        "        for word in sentence.split(' '):\n",
        "            self.addWord(word)\n",
        "\n",
        "    def addWord(self, word):\n",
        "        if word not in self.word2index:\n",
        "            self.word2index[word] = self.n_words\n",
        "            self.word2count[word] = 1\n",
        "            self.index2word[self.n_words] = word\n",
        "            self.n_words += 1\n",
        "        else:\n",
        "            self.word2count[word] += 1"
      ]
    },
    {
      "cell_type": "markdown",
      "metadata": {
        "id": "gJBFZvbJbTgM"
      },
      "source": [
        "파일은 모두 유니 코드로 되어있어 간단하게하기 위해 유니 코드 문자를\n",
        "ASCII로 변환하고, 모든 문자를 소문자로 만들고, 대부분의 구두점을\n",
        "지워줍니다.\n",
        "\n",
        "\n"
      ]
    },
    {
      "cell_type": "code",
      "execution_count": null,
      "metadata": {
        "id": "34AsHcZUbTgM"
      },
      "outputs": [],
      "source": [
        "# 유니 코드 문자열을 일반 ASCII로 변환하십시오.\n",
        "# https://stackoverflow.com/a/518232/2809427\n",
        "def unicodeToAscii(s):\n",
        "    return ''.join(\n",
        "        c for c in unicodedata.normalize('NFD', s)\n",
        "        if unicodedata.category(c) != 'Mn'\n",
        "    )\n",
        "\n",
        "# 소문자, 다듬기, 그리고 문자가 아닌 문자 제거\n",
        "\n",
        "\n",
        "def normalizeString(s):\n",
        "    s = unicodeToAscii(s.lower().strip())\n",
        "    s = re.sub(r\"([.!?])\", r\" \\1\", s)\n",
        "    s = re.sub(r\"[^a-zA-Z.!?]+\", r\" \", s)\n",
        "    return s"
      ]
    },
    {
      "cell_type": "markdown",
      "metadata": {
        "id": "gv6hI11cbTgM"
      },
      "source": [
        "To read the data file we will split the file into lines, and then split\n",
        "lines into pairs. The files are all English → Other Language, so if we\n",
        "want to translate from Other Language → English I added the ``reverse``\n",
        "flag to reverse the pairs.\n",
        "\n",
        "\n"
      ]
    },
    {
      "cell_type": "code",
      "execution_count": null,
      "metadata": {
        "id": "XbAzPpfpbTgN"
      },
      "outputs": [],
      "source": [
        "def readLangs(lang1, lang2, reverse=False):\n",
        "    print(\"Reading lines...\")\n",
        "\n",
        "    # 파일을 읽고 줄로 분리\n",
        "    lines = open('data/%s-%s.txt' % (lang1, lang2), encoding='utf-8').\\\n",
        "        read().strip().split('\\n')\n",
        "\n",
        "    # 모든 줄을 쌍으로 분리하고 정규화\n",
        "    pairs = [[normalizeString(s) for s in l.split('\\t')] for l in lines]\n",
        "\n",
        "    # 쌍을 뒤집고, Lang 인스턴스 생성\n",
        "    if reverse:\n",
        "        pairs = [list(reversed(p)) for p in pairs]\n",
        "        input_lang = Lang(lang2)\n",
        "        output_lang = Lang(lang1)\n",
        "    else:\n",
        "        input_lang = Lang(lang1)\n",
        "        output_lang = Lang(lang2)\n",
        "\n",
        "    return input_lang, output_lang, pairs"
      ]
    },
    {
      "cell_type": "markdown",
      "metadata": {
        "id": "i_3wZLq-bTgN"
      },
      "source": [
        "*많은* 예제 문장이 있고 신속하게 학습하기를 원하기 때문에\n",
        "비교적 짧고 간단한 문장으로만 데이터 셋을 정리할 것입니다. 여기서\n",
        "최대 길이는 10 단어 (종료 문장 부호 포함)이며 \"I am\" 또는\n",
        "\"He is\" 등의 형태로 번역되는 문장으로 필터링됩니다.(이전에\n",
        "아포스트로피는 대체 됨)\n",
        "\n",
        "\n"
      ]
    },
    {
      "cell_type": "code",
      "execution_count": null,
      "metadata": {
        "id": "00JKaBVObTgN"
      },
      "outputs": [],
      "source": [
        "MAX_LENGTH = 10\n",
        "\n",
        "eng_prefixes = (\n",
        "    \"i am \", \"i m \",\n",
        "    \"he is\", \"he s \",\n",
        "    \"she is\", \"she s \",\n",
        "    \"you are\", \"you re \",\n",
        "    \"we are\", \"we re \",\n",
        "    \"they are\", \"they re \"\n",
        ")\n",
        "\n",
        "\n",
        "def filterPair(p):\n",
        "    return len(p[0].split(' ')) < MAX_LENGTH and \\\n",
        "        len(p[1].split(' ')) < MAX_LENGTH and \\\n",
        "        p[1].startswith(eng_prefixes)\n",
        "\n",
        "\n",
        "def filterPairs(pairs):\n",
        "    return [pair for pair in pairs if filterPair(pair)]"
      ]
    },
    {
      "cell_type": "markdown",
      "metadata": {
        "id": "LVKNN-uWbTgN"
      },
      "source": [
        "데이터 준비를 위한 전체 과정:\n",
        "\n",
        "-  텍스트 파일을 읽고 줄로 분리하고, 줄을 쌍으로 분리합니다.\n",
        "-  텍스트를 정규화 하고 길이와 내용으로 필터링 합니다.\n",
        "-  쌍을 이룬 문장들로 단어 리스트를 생성합니다.\n",
        "\n",
        "\n"
      ]
    },
    {
      "cell_type": "code",
      "execution_count": null,
      "metadata": {
        "id": "epdbhPvObTgN",
        "outputId": "21fbdabf-7d78-43bb-89e0-a965fb7b7e61",
        "colab": {
          "base_uri": "https://localhost:8080/"
        }
      },
      "outputs": [
        {
          "output_type": "stream",
          "name": "stdout",
          "text": [
            "Reading lines...\n",
            "Read 135842 sentence pairs\n",
            "Trimmed to 10599 sentence pairs\n",
            "Counting words...\n",
            "Counted words:\n",
            "fra 4345\n",
            "eng 2803\n",
            "['c est un fondu de musique .', 'he is mad about music .']\n"
          ]
        }
      ],
      "source": [
        "def prepareData(lang1, lang2, reverse=False):\n",
        "    input_lang, output_lang, pairs = readLangs(lang1, lang2, reverse)\n",
        "    print(\"Read %s sentence pairs\" % len(pairs))\n",
        "    pairs = filterPairs(pairs)\n",
        "    print(\"Trimmed to %s sentence pairs\" % len(pairs))\n",
        "    print(\"Counting words...\")\n",
        "    for pair in pairs:\n",
        "        input_lang.addSentence(pair[0])\n",
        "        output_lang.addSentence(pair[1])\n",
        "    print(\"Counted words:\")\n",
        "    print(input_lang.name, input_lang.n_words)\n",
        "    print(output_lang.name, output_lang.n_words)\n",
        "    return input_lang, output_lang, pairs\n",
        "\n",
        "\n",
        "input_lang, output_lang, pairs = prepareData('eng', 'fra', True)\n",
        "print(random.choice(pairs))"
      ]
    },
    {
      "cell_type": "markdown",
      "metadata": {
        "id": "PKcaK7VYbTgN"
      },
      "source": [
        "## Seq2Seq 모델\n",
        "\n",
        "Recurrent Neural Network(RNN)는 시퀀스에서 작동하고 다음 단계의\n",
        "입력으로 자신의 출력을 사용하는 네트워크입니다.\n",
        "\n",
        "[Sequence to Sequence network](https://arxiv.org/abs/1409.3215)_, 또는\n",
        "Seq2Seq 네트워크, 또는 [Encoder Decoder\n",
        "network](https://arxiv.org/pdf/1406.1078v3.pdf)_ 는 인코더 및\n",
        "디코더라고 하는 두 개의 RNN으로 구성된 모델입니다.\n",
        "인코더는 입력 시퀀스를 읽고 단일 벡터를 출력하고,\n",
        "디코더는 해당 벡터를 읽어 출력 시퀀스를 생성합니다.\n",
        "\n",
        ".. figure:: /_static/img/seq-seq-images/seq2seq.png\n",
        "   :alt:\n",
        "\n",
        "모든 입력에 해당하는 출력이 있는 단일 RNN의 시퀀스 예측과 달리\n",
        "Seq2Seq 모델은 시퀀스 길이와 순서를 자유롭게하기 때문에\n",
        "두 언어 사이의 번역에 이상적입니다.\n",
        "\n",
        "다음 문장 ``Je ne suis pas le chat noir`` → ``I am not the black cat``\n",
        "를 살펴 봅시다. 입력 문장의 단어 대부분은 출력 문장에서\n",
        "직역(``chat noir`` 와 ``black cat``)되지만 약간 다른 순서도 있습니다.\n",
        "``ne/pas`` 구조로 인해 입력 문장에 단어가 하나 더 있습니다.\n",
        "입력 단어의 시퀀스를 직역해서 정확한 번역을 만드는\n",
        "것은 어려울 것입니다.\n",
        "\n",
        "Seq2Seq 모델을 사용하면 인코더는 하나의 벡터를 생성합니다.\n",
        "이상적인 경우에 입력 시퀀스의 \"의미\"를 문장의 N 차원 공간에 있는\n",
        "단일 지점인 단일 벡터으로 인코딩합니다.\n",
        "\n",
        "\n"
      ]
    },
    {
      "cell_type": "markdown",
      "metadata": {
        "id": "tCAmdXAZbTgO"
      },
      "source": [
        "### 인코더\n",
        "\n",
        "Seq2Seq 네트워크의 인코더는 입력 문장의 모든 단어에 대해 어떤 값을\n",
        "출력하는 RNN입니다. 모든 입력 단어에 대해 인코더는 벡터와\n",
        "은닉 상태를 출력하고 다음 입력 단어를 위해 그 은닉 상태를 사용합니다.\n",
        "\n",
        ".. figure:: /_static/img/seq-seq-images/encoder-network.png\n",
        "   :alt:\n",
        "\n",
        "\n",
        "\n"
      ]
    },
    {
      "cell_type": "code",
      "execution_count": null,
      "metadata": {
        "id": "SgfEQzLfbTgO"
      },
      "outputs": [],
      "source": [
        "class EncoderRNN(nn.Module):\n",
        "    def __init__(self, input_size, hidden_size):\n",
        "        super(EncoderRNN, self).__init__()\n",
        "        self.hidden_size = hidden_size\n",
        "\n",
        "        self.embedding = nn.Embedding(input_size, hidden_size)\n",
        "        self.gru = nn.GRU(hidden_size, hidden_size)\n",
        "\n",
        "    def forward(self, input, hidden):\n",
        "        embedded = self.embedding(input).view(1, 1, -1)\n",
        "        output = embedded\n",
        "        output, hidden = self.gru(output, hidden)\n",
        "        return output, hidden\n",
        "\n",
        "    def initHidden(self):\n",
        "        return torch.zeros(1, 1, self.hidden_size, device=device)"
      ]
    },
    {
      "cell_type": "markdown",
      "metadata": {
        "id": "IZDuntAHbTgO"
      },
      "source": [
        "### 디코더\n",
        "\n",
        "디코더는 인코더 출력 벡터를 받아서 번역을 생성하기 위한 단어 시퀀스를\n",
        "출력합니다.\n",
        "\n",
        "\n"
      ]
    },
    {
      "cell_type": "markdown",
      "metadata": {
        "id": "bKYy1MJ7bTgO"
      },
      "source": [
        "#### 간단한 디코더\n",
        "\n",
        "가장 간단한 Seq2Seq 디코더는 인코더의 마지막 출력만을 이용합니다.\n",
        "이 마지막 출력은 전체 시퀀스에서 문맥을 인코드하기 때문에\n",
        "*문맥 벡터(context vector)* 로 불립니다. 이 문맥 벡터는 디코더의 초기 은닉 상태로\n",
        "사용 됩니다.\n",
        "\n",
        "디코딩의 매 단계에서 디코더에게 입력 토큰과 은닉 상태가 주어집니다.\n",
        "초기 입력 토큰은 문자열-시작 (start-of-string) ``<SOS>`` 토큰이고,\n",
        "첫 은닉 상태는 문맥 벡터(인코더의 마지막 은닉 상태) 입니다.\n",
        "\n",
        ".. figure:: /_static/img/seq-seq-images/decoder-network.png\n",
        "   :alt:\n",
        "\n",
        "\n",
        "\n"
      ]
    },
    {
      "cell_type": "code",
      "execution_count": null,
      "metadata": {
        "id": "onBulqtAbTgO"
      },
      "outputs": [],
      "source": [
        "class DecoderRNN(nn.Module):\n",
        "    def __init__(self, hidden_size, output_size):\n",
        "        super(DecoderRNN, self).__init__()\n",
        "        self.hidden_size = hidden_size\n",
        "\n",
        "        self.embedding = nn.Embedding(output_size, hidden_size)\n",
        "        self.gru = nn.GRU(hidden_size, hidden_size)\n",
        "        self.out = nn.Linear(hidden_size, output_size)\n",
        "        self.softmax = nn.LogSoftmax(dim=1)\n",
        "\n",
        "    def forward(self, input, hidden):\n",
        "        output = self.embedding(input).view(1, 1, -1)\n",
        "        output = F.relu(output)\n",
        "        output, hidden = self.gru(output, hidden)\n",
        "        output = self.softmax(self.out(output[0]))\n",
        "        return output, hidden\n",
        "\n",
        "    def initHidden(self):\n",
        "        return torch.zeros(1, 1, self.hidden_size, device=device)"
      ]
    },
    {
      "cell_type": "markdown",
      "metadata": {
        "id": "_8mMrWpSbTgO"
      },
      "source": [
        "이 모델의 결과를 학습하고 관찰하는 것을 권장하지만,\n",
        "공간을 절약하기 위해 최종 목적지로 바로 이동해서\n",
        "Attention 메커니즘을 소개 할 것입니다.\n",
        "\n",
        "\n"
      ]
    },
    {
      "cell_type": "markdown",
      "metadata": {
        "id": "6JWbN1MDbTgO"
      },
      "source": [
        "#### Attention 디코더\n",
        "\n",
        "문맥 벡터만 인코더와 디코더 사이로 전달 된다면, 단일 벡터가 전체 문장을\n",
        "인코딩 해야하는 부담을 가지게 됩니다.\n",
        "\n",
        "Attention은 디코더 네트워크가 자기 출력의 모든 단계에서 인코더 출력의\n",
        "다른 부분에 \"집중\" 할 수 있게 합니다. 첫째 *Attention 가중치* 의 세트를\n",
        "계산합니다. 이것은 가중치 조합을 만들기 위해서 인코더 출력 벡터와\n",
        "곱해집니다. 그 결과(코드에서 ``attn_applied``)는 입력 시퀀스의\n",
        "특정 부분에 관한 정보를 포함해야하고 따라서 디코더가 알맞은 출력\n",
        "단어를 선택하는 것을 도와줍니다.\n",
        "\n",
        ".. figure:: https://i.imgur.com/1152PYf.png\n",
        "   :alt:\n",
        "\n",
        "어텐션 가중치 계산은 디코더의 입력 및 은닉 상태를 입력으로\n",
        "사용하는 다른 feed-forwad 계층인 ``attn`` 으로 수행됩니다.\n",
        "학습 데이터에는 모든 크기의 문장이 있기 때문에 이 계층을 실제로\n",
        "만들고 학습시키려면 적용 할 수 있는 최대 문장 길이 (인코더 출력을 위한 입력 길이)를\n",
        "선택해야 합니다. 최대 길이의 문장은 모든 Attention 가중치를 사용하지만\n",
        "더 짧은 문장은 처음 몇 개만 사용합니다.\n",
        "\n",
        ".. figure:: /_static/img/seq-seq-images/attention-decoder-network.png\n",
        "   :alt:\n",
        "\n",
        "\n",
        "\n"
      ]
    },
    {
      "cell_type": "code",
      "execution_count": null,
      "metadata": {
        "id": "nkyzDi5abTgP"
      },
      "outputs": [],
      "source": [
        "class AttnDecoderRNN(nn.Module):\n",
        "    def __init__(self, hidden_size, output_size, dropout_p=0.1, max_length=MAX_LENGTH):\n",
        "        super(AttnDecoderRNN, self).__init__()\n",
        "        self.hidden_size = hidden_size\n",
        "        self.output_size = output_size\n",
        "        self.dropout_p = dropout_p\n",
        "        self.max_length = max_length\n",
        "\n",
        "        self.embedding = nn.Embedding(self.output_size, self.hidden_size)\n",
        "        self.attn = nn.Linear(self.hidden_size * 2, self.max_length)\n",
        "        self.attn_combine = nn.Linear(self.hidden_size * 2, self.hidden_size)\n",
        "        self.dropout = nn.Dropout(self.dropout_p)\n",
        "        self.gru = nn.GRU(self.hidden_size, self.hidden_size)\n",
        "        self.out = nn.Linear(self.hidden_size, self.output_size)\n",
        "\n",
        "    def forward(self, input, hidden, encoder_outputs):\n",
        "        embedded = self.embedding(input).view(1, 1, -1)\n",
        "        embedded = self.dropout(embedded)\n",
        "\n",
        "        attn_weights = F.softmax(\n",
        "            self.attn(torch.cat((embedded[0], hidden[0]), 1)), dim=1)\n",
        "        attn_applied = torch.bmm(attn_weights.unsqueeze(0),\n",
        "                                 encoder_outputs.unsqueeze(0))\n",
        "\n",
        "        output = torch.cat((embedded[0], attn_applied[0]), 1)\n",
        "        output = self.attn_combine(output).unsqueeze(0)\n",
        "\n",
        "        output = F.relu(output)\n",
        "        output, hidden = self.gru(output, hidden)\n",
        "\n",
        "        output = F.log_softmax(self.out(output[0]), dim=1)\n",
        "        return output, hidden, attn_weights\n",
        "\n",
        "    def initHidden(self):\n",
        "        return torch.zeros(1, 1, self.hidden_size, device=device)"
      ]
    },
    {
      "cell_type": "markdown",
      "metadata": {
        "id": "Yd7HcilqbTgP"
      },
      "source": [
        "<div class=\"alert alert-info\"><h4>Note</h4><p>There are other forms of attention that work around the length\n",
        "  limitation by using a relative position approach. Read about \"local\n",
        "  attention\" in [Effective Approaches to Attention-based Neural Machine\n",
        "  Translation](https://arxiv.org/abs/1508.04025)_.</p></div>\n",
        "\n",
        "## 학습\n",
        "\n",
        "### 학습 데이터 준비\n",
        "\n",
        "학습을 위해서, 각 쌍마다 입력 Tensor(입력 문장의 단어 주소)와\n",
        "목표 Tensor(목표 문장의 단어 주소)가 필요합니다. 이 벡터들을\n",
        "생성하는 동안 두 시퀀스에 EOS 토큰을 추가 합니다.\n",
        "\n",
        "\n"
      ]
    },
    {
      "cell_type": "code",
      "execution_count": null,
      "metadata": {
        "id": "7RkcppgLbTgP"
      },
      "outputs": [],
      "source": [
        "def indexesFromSentence(lang, sentence):\n",
        "    return [lang.word2index[word] for word in sentence.split(' ')]\n",
        "\n",
        "\n",
        "def tensorFromSentence(lang, sentence):\n",
        "    indexes = indexesFromSentence(lang, sentence)\n",
        "    indexes.append(EOS_token)\n",
        "    return torch.tensor(indexes, dtype=torch.long, device=device).view(-1, 1)\n",
        "\n",
        "\n",
        "def tensorsFromPair(pair):\n",
        "    input_tensor = tensorFromSentence(input_lang, pair[0])\n",
        "    target_tensor = tensorFromSentence(output_lang, pair[1])\n",
        "    return (input_tensor, target_tensor)"
      ]
    },
    {
      "cell_type": "markdown",
      "metadata": {
        "id": "uKa-qgbqbTgP"
      },
      "source": [
        "### 모델 학습\n",
        "\n",
        "학습을 위해서 인코더에 입력 문장을 넣고 모든 출력과 최신 은닉 상태를\n",
        "추적합니다. 그런 다음 디코더에 첫 번째 입력으로 ``<SOS>`` 토큰과\n",
        "인코더의 마지막 은닉 상태가 첫번쩨 은닉 상태로 제공됩니다.\n",
        "\n",
        "\"Teacher forcing\"은 다음 입력으로 디코더의 예측을 사용하는 대신\n",
        "실제 목표 출력을 다음 입력으로 사용하는 컨셉입니다.\n",
        "\"Teacher forcing\"을 사용하면 수렴이 빨리되지만 [학습된 네트워크가\n",
        "잘못 사용될 때 불안정성을 보입니다.](http://citeseerx.ist.psu.edu/viewdoc/download?doi=10.1.1.378.4095&rep=rep1&type=pdf)_.\n",
        "\n",
        "Teacher-forced 네트워크의 출력이 일관된 문법으로 읽지만 정확한\n",
        "번역과는 거리가 멀다는 것을 볼 수 있습니다. 직관적으로 출력 문법을\n",
        "표현하는 법을 배우고 교사가 처음 몇 단어를 말하면 의미를 \"선택\" 할 수 있지만,\n",
        "번역에서 처음으로 문장을 만드는 법은 잘 배우지 못합니다.\n",
        "\n",
        "PyTorch의 autograd 가 제공하는 자유 덕분에 간단한 If 문으로\n",
        "Teacher Forcing을 사용할지 아니면 사용하지 않을지를 선택할 수 있습니다.\n",
        "더 많이 사용하려면 ``teacher_forcing_ratio`` 를 확인하십시오.\n",
        "\n",
        "\n"
      ]
    },
    {
      "cell_type": "code",
      "execution_count": null,
      "metadata": {
        "id": "mYxG5yxYbTgP"
      },
      "outputs": [],
      "source": [
        "teacher_forcing_ratio = 0.5\n",
        "\n",
        "\n",
        "def train(input_tensor, target_tensor, encoder, decoder, encoder_optimizer, decoder_optimizer, criterion, max_length=MAX_LENGTH):\n",
        "    encoder_hidden = encoder.initHidden()\n",
        "\n",
        "    encoder_optimizer.zero_grad()\n",
        "    decoder_optimizer.zero_grad()\n",
        "\n",
        "    input_length = input_tensor.size(0)\n",
        "    target_length = target_tensor.size(0)\n",
        "\n",
        "    encoder_outputs = torch.zeros(max_length, encoder.hidden_size, device=device)\n",
        "\n",
        "    loss = 0\n",
        "\n",
        "    for ei in range(input_length):\n",
        "        encoder_output, encoder_hidden = encoder(\n",
        "            input_tensor[ei], encoder_hidden)\n",
        "        encoder_outputs[ei] = encoder_output[0, 0]\n",
        "\n",
        "    decoder_input = torch.tensor([[SOS_token]], device=device)\n",
        "\n",
        "    decoder_hidden = encoder_hidden\n",
        "\n",
        "    use_teacher_forcing = True if random.random() < teacher_forcing_ratio else False\n",
        "\n",
        "    if use_teacher_forcing:\n",
        "        # Teacher forcing 포함: 목표를 다음 입력으로 전달\n",
        "        for di in range(target_length):\n",
        "            decoder_output, decoder_hidden, decoder_attention = decoder(\n",
        "                decoder_input, decoder_hidden, encoder_outputs)\n",
        "            loss += criterion(decoder_output, target_tensor[di])\n",
        "            decoder_input = target_tensor[di]  # Teacher forcing\n",
        "\n",
        "    else:\n",
        "        # Teacher forcing 미포함: 자신의 예측을 다음 입력으로 사용\n",
        "        for di in range(target_length):\n",
        "            decoder_output, decoder_hidden, decoder_attention = decoder(\n",
        "                decoder_input, decoder_hidden, encoder_outputs)\n",
        "            topv, topi = decoder_output.topk(1)\n",
        "            decoder_input = topi.squeeze().detach()  # 입력으로 사용할 부분을 히스토리에서 분리\n",
        "\n",
        "            loss += criterion(decoder_output, target_tensor[di])\n",
        "            if decoder_input.item() == EOS_token:\n",
        "                break\n",
        "\n",
        "    loss.backward()\n",
        "\n",
        "    encoder_optimizer.step()\n",
        "    decoder_optimizer.step()\n",
        "\n",
        "    return loss.item() / target_length"
      ]
    },
    {
      "cell_type": "markdown",
      "metadata": {
        "id": "Uha13TXZbTgP"
      },
      "source": [
        "이것은 현재 시간과 진행률%을 고려해 경과된 시간과 남은 예상\n",
        "시간을 출력하는 헬퍼 함수입니다.\n",
        "\n",
        "\n"
      ]
    },
    {
      "cell_type": "code",
      "execution_count": null,
      "metadata": {
        "id": "8yb9h7xvbTgP"
      },
      "outputs": [],
      "source": [
        "import time\n",
        "import math\n",
        "\n",
        "\n",
        "def asMinutes(s):\n",
        "    m = math.floor(s / 60)\n",
        "    s -= m * 60\n",
        "    return '%dm %ds' % (m, s)\n",
        "\n",
        "\n",
        "def timeSince(since, percent):\n",
        "    now = time.time()\n",
        "    s = now - since\n",
        "    es = s / (percent)\n",
        "    rs = es - s\n",
        "    return '%s (- %s)' % (asMinutes(s), asMinutes(rs))"
      ]
    },
    {
      "cell_type": "markdown",
      "metadata": {
        "id": "o-Bhd3q2bTgP"
      },
      "source": [
        "전체 학습 과정은 다음과 같습니다:\n",
        "\n",
        "-  타이머 시작\n",
        "-  optimizers와 criterion 초기화\n",
        "-  학습 쌍의 세트 생성\n",
        "-  도식화를 위한 빈 손실 배열 시작\n",
        "\n",
        "그런 다음 우리는 여러 번 ``train`` 을 호출하며 때로는 진행률\n",
        "(예제의 %, 현재까지의 예상 시간)과 평균 손실을 출력합니다.\n",
        "\n",
        "\n"
      ]
    },
    {
      "cell_type": "code",
      "execution_count": null,
      "metadata": {
        "id": "9rhMQzonbTgQ"
      },
      "outputs": [],
      "source": [
        "def trainIters(encoder, decoder, n_iters, print_every=1000, plot_every=100, learning_rate=0.01):\n",
        "    start = time.time()\n",
        "    plot_losses = []\n",
        "    print_loss_total = 0  # print_every 마다 초기화\n",
        "    plot_loss_total = 0  # plot_every 마다 초기화\n",
        "\n",
        "    encoder_optimizer = optim.SGD(encoder.parameters(), lr=learning_rate)\n",
        "    decoder_optimizer = optim.SGD(decoder.parameters(), lr=learning_rate)\n",
        "    training_pairs = [tensorsFromPair(random.choice(pairs))\n",
        "                      for i in range(n_iters)]\n",
        "    criterion = nn.NLLLoss()\n",
        "\n",
        "    for iter in range(1, n_iters + 1):\n",
        "        training_pair = training_pairs[iter - 1]\n",
        "        input_tensor = training_pair[0]\n",
        "        target_tensor = training_pair[1]\n",
        "\n",
        "        loss = train(input_tensor, target_tensor, encoder,\n",
        "                     decoder, encoder_optimizer, decoder_optimizer, criterion)\n",
        "        print_loss_total += loss\n",
        "        plot_loss_total += loss\n",
        "\n",
        "        if iter % print_every == 0:\n",
        "            print_loss_avg = print_loss_total / print_every\n",
        "            print_loss_total = 0\n",
        "            print('%s (%d %d%%) %.4f' % (timeSince(start, iter / n_iters),\n",
        "                                         iter, iter / n_iters * 100, print_loss_avg))\n",
        "\n",
        "        if iter % plot_every == 0:\n",
        "            plot_loss_avg = plot_loss_total / plot_every\n",
        "            plot_losses.append(plot_loss_avg)\n",
        "            plot_loss_total = 0\n",
        "\n",
        "    showPlot(plot_losses)"
      ]
    },
    {
      "cell_type": "markdown",
      "metadata": {
        "id": "E3b67He7bTgQ"
      },
      "source": [
        "### 결과 도식화\n",
        "\n",
        "matplotlib로 학습 중에 저장된 손실 값 ``plot_losses`` 의 배열을\n",
        "사용하여 도식화합니다.\n",
        "\n",
        "\n"
      ]
    },
    {
      "cell_type": "code",
      "execution_count": null,
      "metadata": {
        "id": "6bD0wAsTbTgQ"
      },
      "outputs": [],
      "source": [
        "import matplotlib.pyplot as plt\n",
        "plt.switch_backend('agg')\n",
        "import matplotlib.ticker as ticker\n",
        "import numpy as np\n",
        "\n",
        "\n",
        "def showPlot(points):\n",
        "    plt.figure()\n",
        "    fig, ax = plt.subplots()\n",
        "    # 주기적인 간격에 이 locator가 tick을 설정\n",
        "    loc = ticker.MultipleLocator(base=0.2)\n",
        "    ax.yaxis.set_major_locator(loc)\n",
        "    plt.plot(points)"
      ]
    },
    {
      "cell_type": "markdown",
      "metadata": {
        "id": "Qqc8c3WIbTgQ"
      },
      "source": [
        "## 평가\n",
        "\n",
        "평가는 대부분 학습과 동일하지만 목표가 없으므로 각 단계마다 디코더의\n",
        "예측을 되돌려 전달합니다.\n",
        "단어를 예측할 때마다 그 단어를 출력 문자열에 추가합니다.\n",
        "만약 EOS 토큰을 예측하면 거기에서 멈춥니다.\n",
        "나중에 도식화를 위해서 디코더의 Attention 출력을 저장합니다.\n",
        "\n",
        "\n"
      ]
    },
    {
      "cell_type": "code",
      "execution_count": null,
      "metadata": {
        "id": "VqXktLOTbTgQ"
      },
      "outputs": [],
      "source": [
        "def evaluate(encoder, decoder, sentence, max_length=MAX_LENGTH):\n",
        "    with torch.no_grad():\n",
        "        input_tensor = tensorFromSentence(input_lang, sentence)\n",
        "        input_length = input_tensor.size()[0]\n",
        "        encoder_hidden = encoder.initHidden()\n",
        "\n",
        "        encoder_outputs = torch.zeros(max_length, encoder.hidden_size, device=device)\n",
        "\n",
        "        for ei in range(input_length):\n",
        "            encoder_output, encoder_hidden = encoder(input_tensor[ei],\n",
        "                                                     encoder_hidden)\n",
        "            encoder_outputs[ei] += encoder_output[0, 0]\n",
        "\n",
        "        decoder_input = torch.tensor([[SOS_token]], device=device)  # SOS\n",
        "\n",
        "        decoder_hidden = encoder_hidden\n",
        "\n",
        "        decoded_words = []\n",
        "        decoder_attentions = torch.zeros(max_length, max_length)\n",
        "\n",
        "        for di in range(max_length):\n",
        "            decoder_output, decoder_hidden, decoder_attention = decoder(\n",
        "                decoder_input, decoder_hidden, encoder_outputs)\n",
        "            decoder_attentions[di] = decoder_attention.data\n",
        "            topv, topi = decoder_output.data.topk(1)\n",
        "            if topi.item() == EOS_token:\n",
        "                decoded_words.append('<EOS>')\n",
        "                break\n",
        "            else:\n",
        "                decoded_words.append(output_lang.index2word[topi.item()])\n",
        "\n",
        "            decoder_input = topi.squeeze().detach()\n",
        "\n",
        "        return decoded_words, decoder_attentions[:di + 1]"
      ]
    },
    {
      "cell_type": "markdown",
      "metadata": {
        "id": "RLdlVCKSbTgQ"
      },
      "source": [
        "학습 세트에 있는 임의의 문장을 평가하고\n",
        "입력, 목표 및 출력을 출력하여 주관적인 품질 판단을 내릴 수 있습니다:\n",
        "\n",
        "\n"
      ]
    },
    {
      "cell_type": "code",
      "execution_count": null,
      "metadata": {
        "id": "mk3BQ3h5bTgQ"
      },
      "outputs": [],
      "source": [
        "def evaluateRandomly(encoder, decoder, n=10):\n",
        "    for i in range(n):\n",
        "        pair = random.choice(pairs)\n",
        "        print('>', pair[0])\n",
        "        print('=', pair[1])\n",
        "        output_words, attentions = evaluate(encoder, decoder, pair[0])\n",
        "        output_sentence = ' '.join(output_words)\n",
        "        print('<', output_sentence)\n",
        "        print('')"
      ]
    },
    {
      "cell_type": "markdown",
      "metadata": {
        "id": "KMHc7uJFbTgQ"
      },
      "source": [
        "## 학습과 평가\n",
        "\n",
        "이러한 모든 헬퍼 함수를 이용해서 (추가 작업처럼 보이지만 여러 실험을\n",
        "더 쉽게 수행 할 수 있음) 실제로 네트워크를 초기화하고 학습을\n",
        "시작할 수 있습니다.\n",
        "\n",
        "입력 문장이 많이 필터링되었음을 기억하십시오. 이 작은 데이터 세트의\n",
        "경우 256 크기의 은닉 노드(hidden node)와 단일 GRU 계층 같은 상대적으로 작은\n",
        "네트워크를 사용할 수 있습니다. MacBook CPU에서 약 40분 후에\n",
        "합리적인 결과를 얻을 것입니다.\n",
        "\n",
        ".. Note::\n",
        "   이 노트북을 실행하면 학습, 커널 중단, 평가를 할 수 있고 나중에\n",
        "   이어서 학습을 할 수 있습니다. 인코더와 디코더가 초기화 된 행을\n",
        "   주석 처리하고 ``trainIters`` 를 다시 실행하십시오.\n",
        "\n",
        "\n"
      ]
    },
    {
      "cell_type": "code",
      "execution_count": null,
      "metadata": {
        "id": "FqPJHHWJbTgQ",
        "outputId": "b48d026b-5b27-42ee-ded1-9ea54d75de8b",
        "colab": {
          "base_uri": "https://localhost:8080/"
        }
      },
      "outputs": [
        {
          "output_type": "stream",
          "name": "stdout",
          "text": [
            "1m 30s (- 21m 5s) (5000 6%) 2.8593\n",
            "2m 55s (- 18m 59s) (10000 13%) 2.2719\n",
            "4m 20s (- 17m 20s) (15000 20%) 1.9590\n",
            "5m 45s (- 15m 49s) (20000 26%) 1.7153\n",
            "7m 10s (- 14m 21s) (25000 33%) 1.5428\n",
            "8m 36s (- 12m 55s) (30000 40%) 1.3702\n",
            "10m 1s (- 11m 27s) (35000 46%) 1.1978\n",
            "11m 26s (- 10m 0s) (40000 53%) 1.1032\n",
            "12m 53s (- 8m 35s) (45000 60%) 1.0121\n",
            "14m 18s (- 7m 9s) (50000 66%) 0.9096\n",
            "15m 43s (- 5m 43s) (55000 73%) 0.8282\n",
            "17m 8s (- 4m 17s) (60000 80%) 0.7583\n",
            "18m 32s (- 2m 51s) (65000 86%) 0.6783\n",
            "20m 0s (- 1m 25s) (70000 93%) 0.6346\n",
            "21m 25s (- 0m 0s) (75000 100%) 0.5740\n"
          ]
        }
      ],
      "source": [
        "hidden_size = 256\n",
        "encoder1 = EncoderRNN(input_lang.n_words, hidden_size).to(device)\n",
        "attn_decoder1 = AttnDecoderRNN(hidden_size, output_lang.n_words, dropout_p=0.1).to(device)\n",
        "\n",
        "trainIters(encoder1, attn_decoder1, 75000, print_every=5000)"
      ]
    },
    {
      "cell_type": "code",
      "execution_count": null,
      "metadata": {
        "id": "ZJUhhrZzbTgQ",
        "outputId": "223fd489-ec06-4541-fe40-f1a9dcedcf51",
        "colab": {
          "base_uri": "https://localhost:8080/"
        }
      },
      "outputs": [
        {
          "output_type": "stream",
          "name": "stdout",
          "text": [
            "> je suis malade .\n",
            "= i m sick .\n",
            "< i m sick . <EOS>\n",
            "\n",
            "> vous etes celui qui m a entraine .\n",
            "= you re the one who trained me .\n",
            "< you re the one who trained me . <EOS>\n",
            "\n",
            "> je suis enchante de vous rencontrer .\n",
            "= i m glad to see you .\n",
            "< i m delighted to meet you . <EOS>\n",
            "\n",
            "> ils s en vont .\n",
            "= they re leaving .\n",
            "< they re coming . <EOS>\n",
            "\n",
            "> je suis un etranger ici .\n",
            "= i am a stranger here .\n",
            "< i m a stranger here . <EOS>\n",
            "\n",
            "> il attend que le train parte .\n",
            "= he s waiting for the train to leave .\n",
            "< he s waiting for it right . <EOS>\n",
            "\n",
            "> tu es productive .\n",
            "= you re productive .\n",
            "< you re productive . <EOS>\n",
            "\n",
            "> c est moi la patronne .\n",
            "= i m the boss .\n",
            "< i m the boss . <EOS>\n",
            "\n",
            "> il est cool pas vrai ?\n",
            "= he is cool isn t he ?\n",
            "< he is cool isn t a he ? <EOS>\n",
            "\n",
            "> tu es tres vif .\n",
            "= you re very sharp .\n",
            "< you re very sharp . <EOS>\n",
            "\n"
          ]
        }
      ],
      "source": [
        "evaluateRandomly(encoder1, attn_decoder1)"
      ]
    },
    {
      "cell_type": "markdown",
      "metadata": {
        "id": "yQPkh9QQbTgQ"
      },
      "source": [
        "### Attention 시각화\n",
        "\n",
        "Attention 메커니즘의 유용한 속성은 하나는 해석 가능성이 높은 출력입니다.\n",
        "입력 시퀀스의 특정 인코더 출력에 가중치를 부여하는 데 사용되므로\n",
        "각 시간 단계에서 네트워크가 가장 집중되는 위치를 파악할 수 있습니다.\n",
        "\n",
        "Attention 출력을 행렬로 표시하기 위해 ``plt.matshow(attentions)`` 를\n",
        "간단하게 실행할 수 있습니다. 열은 입력 단계와 행이 출력 단계입니다:\n",
        "\n",
        "\n"
      ]
    },
    {
      "cell_type": "markdown",
      "source": [
        "그림이 출력이 안되면.. 뭐가 빠졌을까요~?!"
      ],
      "metadata": {
        "id": "sM12q_v6hxoW"
      }
    },
    {
      "cell_type": "code",
      "execution_count": null,
      "metadata": {
        "id": "WWE08A9mbTgQ",
        "outputId": "29c922bb-444d-4596-b584-c24a1b9c7c6c",
        "colab": {
          "base_uri": "https://localhost:8080/",
          "height": 1000
        }
      },
      "outputs": [
        {
          "output_type": "display_data",
          "data": {
            "text/plain": [
              "<Figure size 640x480 with 0 Axes>"
            ]
          },
          "metadata": {}
        },
        {
          "output_type": "display_data",
          "data": {
            "text/plain": [
              "<Figure size 640x480 with 1 Axes>"
            ],
            "image/png": "[encoded data removed]"
          },
          "metadata": {}
        },
        {
          "output_type": "display_data",
          "data": {
            "text/plain": [
              "<Figure size 800x480 with 1 Axes>"
            ],
            "image/png": "[encoded data removed]"
          },
          "metadata": {}
        },
        {
          "output_type": "display_data",
          "data": {
            "text/plain": [
              "<Figure size 640x480 with 2 Axes>"
            ],
            "image/png": "[encoded data removed]"
          },
          "metadata": {}
        },
        {
          "output_type": "display_data",
          "data": {
            "text/plain": [
              "<Figure size 640x480 with 2 Axes>"
            ],
            "image/png": "[encoded data removed]"
          },
          "metadata": {}
        },
        {
          "output_type": "display_data",
          "data": {
            "text/plain": [
              "<Figure size 640x480 with 2 Axes>"
            ],
            "image/png": "[encoded data removed]"
          },
          "metadata": {}
        },
        {
          "output_type": "display_data",
          "data": {
            "text/plain": [
              "<Figure size 640x480 with 2 Axes>"
            ],
            "image/png": "[encoded data removed]"
          },
          "metadata": {}
        },
        {
          "output_type": "display_data",
          "data": {
            "text/plain": [
              "<Figure size 800x480 with 1 Axes>"
            ],
            "image/png": "[encoded data removed]"
          },
          "metadata": {}
        },
        {
          "output_type": "display_data",
          "data": {
            "text/plain": [
              "<Figure size 800x480 with 1 Axes>"
            ],
            "image/png": "[encoded data removed]"
          },
          "metadata": {}
        }
      ],
      "source": [
        "output_words, attentions = evaluate(\n",
        "    encoder1, attn_decoder1, \"je suis trop froid .\")\n",
        "plt.matshow(attentions.numpy());"
      ]
    },
    {
      "cell_type": "markdown",
      "metadata": {
        "id": "jUpYTRZCbTgQ"
      },
      "source": [
        "더 나은 보기를 위해 축과 라벨을 더하는 추가 작업을 수행합니다:\n",
        "\n",
        "\n"
      ]
    },
    {
      "cell_type": "code",
      "execution_count": null,
      "metadata": {
        "id": "ZcsH966NbTgR",
        "outputId": "2e664add-bfa1-41e9-ccaf-a94b864fc278",
        "colab": {
          "base_uri": "https://localhost:8080/"
        }
      },
      "outputs": [
        {
          "output_type": "stream",
          "name": "stdout",
          "text": [
            "input = elle a cinq ans de moins que moi .\n",
            "output = she is two years younger than me . <EOS>\n",
            "input = elle est trop petit .\n",
            "output = she is too short . <EOS>\n",
            "input = je ne crains pas de mourir .\n",
            "output = i m not scared to die . <EOS>\n",
            "input = c est un jeune directeur plein de talent .\n",
            "output = he s a talented and talented . <EOS>\n"
          ]
        },
        {
          "output_type": "stream",
          "name": "stderr",
          "text": [
            "<ipython-input-23-f8657a1772b8>:9: UserWarning: FixedFormatter should only be used together with FixedLocator\n",
            "  ax.set_xticklabels([''] + input_sentence.split(' ') +\n",
            "<ipython-input-23-f8657a1772b8>:11: UserWarning: FixedFormatter should only be used together with FixedLocator\n",
            "  ax.set_yticklabels([''] + output_words)\n"
          ]
        }
      ],
      "source": [
        "def showAttention(input_sentence, output_words, attentions):\n",
        "    # colorbar로 그림 설정\n",
        "    fig = plt.figure()\n",
        "    ax = fig.add_subplot(111)\n",
        "    cax = ax.matshow(attentions.numpy(), cmap='bone')\n",
        "    fig.colorbar(cax)\n",
        "\n",
        "    # 축 설정\n",
        "    ax.set_xticklabels([''] + input_sentence.split(' ') +\n",
        "                       ['<EOS>'], rotation=90)\n",
        "    ax.set_yticklabels([''] + output_words)\n",
        "\n",
        "    # 매 틱마다 라벨 보여주기\n",
        "    ax.xaxis.set_major_locator(ticker.MultipleLocator(1))\n",
        "    ax.yaxis.set_major_locator(ticker.MultipleLocator(1))\n",
        "\n",
        "    plt.show()\n",
        "\n",
        "\n",
        "def evaluateAndShowAttention(input_sentence):\n",
        "    output_words, attentions = evaluate(\n",
        "        encoder1, attn_decoder1, input_sentence)\n",
        "    print('input =', input_sentence)\n",
        "    print('output =', ' '.join(output_words))\n",
        "    showAttention(input_sentence, output_words, attentions)\n",
        "\n",
        "\n",
        "evaluateAndShowAttention(\"elle a cinq ans de moins que moi .\")\n",
        "\n",
        "evaluateAndShowAttention(\"elle est trop petit .\")\n",
        "\n",
        "evaluateAndShowAttention(\"je ne crains pas de mourir .\")\n",
        "\n",
        "evaluateAndShowAttention(\"c est un jeune directeur plein de talent .\")"
      ]
    },
    {
      "cell_type": "markdown",
      "source": [
        "https://translate.google.com/?sl=auto&tl=en&text=elle%20a%20cinq%20ans%20de%20moins%20que%20moi%20.&op=translate"
      ],
      "metadata": {
        "id": "tl3Zf85Jhnyg"
      }
    },
    {
      "cell_type": "markdown",
      "metadata": {
        "id": "N0X5sCvibTgR"
      },
      "source": [
        "## 연습\n",
        "\n",
        "-  다른 데이터 셋을 시도해 보십시오\n",
        "\n",
        "   -  다른 언어쌍\n",
        "   -  사람 → 기계 (e.g. IOT 명령어)\n",
        "   -  채팅 → 응답\n",
        "   -  질문 → 답변\n",
        "\n",
        "-  ``word2vec`` 또는 ``GloVe`` 같은 미리 학습된 word embedding 으로\n",
        "   embedding 을 교체하십시오\n",
        "\n",
        "-  더 많은 레이어, 은닉 유닛, 더 많은 문장을 사용하십시오.\n",
        "   학습 시간과 결과를 비교해 보십시오\n",
        "-  만약 같은 구문 두개의 쌍으로 된 번역 파일을 이용한다면,\n",
        "   (``I am test \\t I am test``), 이것을 오토인코더로\n",
        "   사용할 수 있습니다.\n",
        "   이것을 시도해 보십시오:\n",
        "\n",
        "   -  오토인코더 학습\n",
        "   -  인코더 네트워크 저장하기\n",
        "   -  그 상태에서 번역을 위한 새로운 디코더 학습\n",
        "\n",
        "\n"
      ]
    }
  ],
  "metadata": {
    "kernelspec": {
      "display_name": "Python 3",
      "name": "python3"
    },
    "language_info": {
      "codemirror_mode": {
        "name": "ipython",
        "version": 3
      },
      "file_extension": ".py",
      "mimetype": "text/x-python",
      "name": "python",
      "nbconvert_exporter": "python",
      "pygments_lexer": "ipython3",
      "version": "3.9.16"
    },
    "colab": {
      "provenance": [],
      "gpuType": "T4"
    },
    "accelerator": "GPU"
  },
  "nbformat": 4,
  "nbformat_minor": 0
}