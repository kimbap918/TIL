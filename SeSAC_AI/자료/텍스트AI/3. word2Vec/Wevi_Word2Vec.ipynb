{
  "nbformat": 4,
  "nbformat_minor": 0,
  "metadata": {
    "colab": {
      "provenance": []
    },
    "kernelspec": {
      "name": "python3",
      "display_name": "Python 3"
    },
    "language_info": {
      "name": "python"
    }
  },
  "cells": [
    {
      "cell_type": "markdown",
      "source": [
        "# wevi( https://ronxin.github.io/wevi/ )를 keras로 코딩하기\n",
        "- 코어닷투데이 김경훈 (2023.09.12.)"
      ],
      "metadata": {
        "id": "8iMJ-TeXrRes"
      }
    },
    {
      "cell_type": "markdown",
      "source": [
        "# 그림 작성을 위한 한글 폰트 설치\n",
        "설치하고 런타임 다시 시작을 해주세요"
      ],
      "metadata": {
        "id": "YqzBdB32L1Y6"
      }
    },
    {
      "cell_type": "code",
      "source": [
        "!sudo apt-get install -y fonts-nanum\n",
        "!sudo fc-cache -fv\n",
        "!rm ~/.cache/matplotlib -rf"
      ],
      "metadata": {
        "colab": {
          "base_uri": "https://localhost:8080/"
        },
        "id": "bQbTFV2LLSYC",
        "outputId": "b3b528e8-4c7e-4389-ac4a-8e4d6f047adf"
      },
      "execution_count": 51,
      "outputs": [
        {
          "output_type": "stream",
          "name": "stdout",
          "text": [
            "Reading package lists... Done\n",
            "Building dependency tree... Done\n",
            "Reading state information... Done\n",
            "fonts-nanum is already the newest version (20200506-1).\n",
            "0 upgraded, 0 newly installed, 0 to remove and 16 not upgraded.\n",
            "/usr/share/fonts: caching, new cache contents: 0 fonts, 1 dirs\n",
            "/usr/share/fonts/truetype: caching, new cache contents: 0 fonts, 3 dirs\n",
            "/usr/share/fonts/truetype/humor-sans: caching, new cache contents: 1 fonts, 0 dirs\n",
            "/usr/share/fonts/truetype/liberation: caching, new cache contents: 16 fonts, 0 dirs\n",
            "/usr/share/fonts/truetype/nanum: caching, new cache contents: 39 fonts, 0 dirs\n",
            "/usr/local/share/fonts: caching, new cache contents: 0 fonts, 0 dirs\n",
            "/root/.local/share/fonts: skipping, no such directory\n",
            "/root/.fonts: skipping, no such directory\n",
            "/usr/share/fonts/truetype: skipping, looped directory detected\n",
            "/usr/share/fonts/truetype/humor-sans: skipping, looped directory detected\n",
            "/usr/share/fonts/truetype/liberation: skipping, looped directory detected\n",
            "/usr/share/fonts/truetype/nanum: skipping, looped directory detected\n",
            "/var/cache/fontconfig: cleaning cache directory\n",
            "/root/.cache/fontconfig: not cleaning non-existent cache directory\n",
            "/root/.fontconfig: not cleaning non-existent cache directory\n",
            "fc-cache: succeeded\n"
          ]
        }
      ]
    },
    {
      "cell_type": "code",
      "execution_count": 1,
      "metadata": {
        "id": "IHZYtIbDAeei"
      },
      "outputs": [],
      "source": [
        "import numpy as np\n",
        "import matplotlib.pyplot as plt\n",
        "import operator\n",
        "\n",
        "from keras.models import Sequential\n",
        "from keras.layers import Dense, Activation"
      ]
    },
    {
      "cell_type": "markdown",
      "source": [
        "# 데이터셋의 BoW"
      ],
      "metadata": {
        "id": "6-qm4wmbUno6"
      }
    },
    {
      "cell_type": "code",
      "source": [
        "docs = [\n",
        "    ['고양이', '강아지', '찾아줘', '우리', '동네', '어딘가', '에', '있어'],\n",
        "    ['고양이', '찾아줘'],\n",
        "    ['강아지', '찾아줘'],\n",
        "    ['우리', '동네', '어딘가', '에', '있어', '맛집', '이']\n",
        "]"
      ],
      "metadata": {
        "id": "t7BCZLoJBIQO"
      },
      "execution_count": 2,
      "outputs": []
    },
    {
      "cell_type": "code",
      "source": [
        "# 모든 문서에서 단어들의 집합을 구한다.\n",
        "unique_words = set(word for doc in docs for word in doc)\n",
        "\n",
        "# 각 단어에 unique한 숫자 값을 매겨준다.\n",
        "word_to_id = {word: idx for idx, word in enumerate(unique_words)}"
      ],
      "metadata": {
        "id": "Z-r9sx18BJSm"
      },
      "execution_count": 3,
      "outputs": []
    },
    {
      "cell_type": "code",
      "source": [
        "word_to_id"
      ],
      "metadata": {
        "colab": {
          "base_uri": "https://localhost:8080/"
        },
        "id": "2FjiQiRTBqD1",
        "outputId": "2ad03471-0a40-42e8-c3c8-c58a7eed88fe"
      },
      "execution_count": 4,
      "outputs": [
        {
          "output_type": "execute_result",
          "data": {
            "text/plain": [
              "{'에': 0,\n",
              " '고양이': 1,\n",
              " '이': 2,\n",
              " '있어': 3,\n",
              " '맛집': 4,\n",
              " '찾아줘': 5,\n",
              " '어딘가': 6,\n",
              " '동네': 7,\n",
              " '우리': 8,\n",
              " '강아지': 9}"
            ]
          },
          "metadata": {},
          "execution_count": 4
        }
      ]
    },
    {
      "cell_type": "markdown",
      "source": [
        "# One-Hot Encoding"
      ],
      "metadata": {
        "id": "srAwfUGNUsPn"
      }
    },
    {
      "cell_type": "code",
      "source": [
        "def one_hot_encode(word, word_to_id):\n",
        "    vector = np.zeros(len(word_to_id), dtype=int) # vector of zeros\n",
        "    vector[word_to_id[word]] = 1 # set the index of the word to 1\n",
        "    return vector"
      ],
      "metadata": {
        "id": "d6mrUK6wB_og"
      },
      "execution_count": 5,
      "outputs": []
    },
    {
      "cell_type": "code",
      "source": [
        "one_hot_encode('찾아줘', word_to_id)"
      ],
      "metadata": {
        "colab": {
          "base_uri": "https://localhost:8080/"
        },
        "id": "g6bcs5hVCzRk",
        "outputId": "2aa694eb-7e3a-4758-cd43-e5be28a3433a"
      },
      "execution_count": 6,
      "outputs": [
        {
          "output_type": "execute_result",
          "data": {
            "text/plain": [
              "array([0, 0, 0, 0, 0, 1, 0, 0, 0, 0])"
            ]
          },
          "metadata": {},
          "execution_count": 6
        }
      ]
    },
    {
      "cell_type": "code",
      "source": [
        "one_hot_encode('강아지', word_to_id)"
      ],
      "metadata": {
        "colab": {
          "base_uri": "https://localhost:8080/"
        },
        "id": "5WGhu5xjCQuj",
        "outputId": "37335e7a-01c8-4c75-f30a-4d4cfe56bbe4"
      },
      "execution_count": 7,
      "outputs": [
        {
          "output_type": "execute_result",
          "data": {
            "text/plain": [
              "array([0, 0, 0, 0, 0, 0, 0, 0, 0, 1])"
            ]
          },
          "metadata": {},
          "execution_count": 7
        }
      ]
    },
    {
      "cell_type": "code",
      "source": [
        "words = sorted(word_to_id.items(), key=operator.itemgetter(1))\n",
        "words"
      ],
      "metadata": {
        "colab": {
          "base_uri": "https://localhost:8080/"
        },
        "id": "H7RFMBDiKizp",
        "outputId": "888ff41d-5fd6-4836-f933-4bc184827a49"
      },
      "execution_count": 8,
      "outputs": [
        {
          "output_type": "execute_result",
          "data": {
            "text/plain": [
              "[('에', 0),\n",
              " ('고양이', 1),\n",
              " ('이', 2),\n",
              " ('있어', 3),\n",
              " ('맛집', 4),\n",
              " ('찾아줘', 5),\n",
              " ('어딘가', 6),\n",
              " ('동네', 7),\n",
              " ('우리', 8),\n",
              " ('강아지', 9)]"
            ]
          },
          "metadata": {},
          "execution_count": 8
        }
      ]
    },
    {
      "cell_type": "code",
      "source": [
        "for word, idx in words:\n",
        "    vec = one_hot_encode(word, word_to_id)\n",
        "    print(word, '\\t', vec)"
      ],
      "metadata": {
        "colab": {
          "base_uri": "https://localhost:8080/"
        },
        "id": "X7gIUHKACW6v",
        "outputId": "4fd76a32-d31c-4fd7-a568-cea72aa0c8f5"
      },
      "execution_count": 9,
      "outputs": [
        {
          "output_type": "stream",
          "name": "stdout",
          "text": [
            "에 \t [1 0 0 0 0 0 0 0 0 0]\n",
            "고양이 \t [0 1 0 0 0 0 0 0 0 0]\n",
            "이 \t [0 0 1 0 0 0 0 0 0 0]\n",
            "있어 \t [0 0 0 1 0 0 0 0 0 0]\n",
            "맛집 \t [0 0 0 0 1 0 0 0 0 0]\n",
            "찾아줘 \t [0 0 0 0 0 1 0 0 0 0]\n",
            "어딘가 \t [0 0 0 0 0 0 1 0 0 0]\n",
            "동네 \t [0 0 0 0 0 0 0 1 0 0]\n",
            "우리 \t [0 0 0 0 0 0 0 0 1 0]\n",
            "강아지 \t [0 0 0 0 0 0 0 0 0 1]\n"
          ]
        }
      ]
    },
    {
      "cell_type": "markdown",
      "source": [
        "# 학습 데이터셋 만들기"
      ],
      "metadata": {
        "id": "-CJaVlwDUxhT"
      }
    },
    {
      "cell_type": "code",
      "source": [
        "for doc in docs:\n",
        "    doc"
      ],
      "metadata": {
        "id": "Di8Tq9c2U2iC"
      },
      "execution_count": 10,
      "outputs": []
    },
    {
      "cell_type": "code",
      "source": [
        "doc"
      ],
      "metadata": {
        "colab": {
          "base_uri": "https://localhost:8080/"
        },
        "id": "Iz6Db-4xU6mD",
        "outputId": "e6e792c1-c5f1-4b25-ae6b-fa761532f39d"
      },
      "execution_count": 11,
      "outputs": [
        {
          "output_type": "execute_result",
          "data": {
            "text/plain": [
              "['우리', '동네', '어딘가', '에', '있어', '맛집', '이']"
            ]
          },
          "metadata": {},
          "execution_count": 11
        }
      ]
    },
    {
      "cell_type": "code",
      "source": [
        "def create_dataset(doc, window_size=1):\n",
        "    dataset = []\n",
        "    for i, word in enumerate(doc):\n",
        "        start_idx = max(0, i - window_size)\n",
        "        end_idx = min(len(doc), i + window_size + 1)\n",
        "\n",
        "        for j in range(start_idx, end_idx):\n",
        "            if i != j: # 중심 단어는 포함되지 않도록\n",
        "                dataset.append(word + \"|\" + doc[j])\n",
        "    return dataset"
      ],
      "metadata": {
        "id": "xwqq8t79VbUb"
      },
      "execution_count": 12,
      "outputs": []
    },
    {
      "cell_type": "code",
      "source": [
        "dataset = create_dataset(doc, window_size=1)\n",
        "for d in dataset:\n",
        "    print(d, end=',')"
      ],
      "metadata": {
        "colab": {
          "base_uri": "https://localhost:8080/"
        },
        "id": "38NrxTz-VdGE",
        "outputId": "556a3783-a80d-41d7-d47b-fc5a63a22fac"
      },
      "execution_count": 13,
      "outputs": [
        {
          "output_type": "stream",
          "name": "stdout",
          "text": [
            "우리|동네,동네|우리,동네|어딘가,어딘가|동네,어딘가|에,에|어딘가,에|있어,있어|에,있어|맛집,맛집|있어,맛집|이,이|맛집,"
          ]
        }
      ]
    },
    {
      "cell_type": "code",
      "source": [
        "dataset"
      ],
      "metadata": {
        "colab": {
          "base_uri": "https://localhost:8080/"
        },
        "id": "U9K4DSrvWdik",
        "outputId": "c96f2a5c-cc2e-4aea-ebb7-7fe80b952f9e"
      },
      "execution_count": 14,
      "outputs": [
        {
          "output_type": "execute_result",
          "data": {
            "text/plain": [
              "['우리|동네',\n",
              " '동네|우리',\n",
              " '동네|어딘가',\n",
              " '어딘가|동네',\n",
              " '어딘가|에',\n",
              " '에|어딘가',\n",
              " '에|있어',\n",
              " '있어|에',\n",
              " '있어|맛집',\n",
              " '맛집|있어',\n",
              " '맛집|이',\n",
              " '이|맛집']"
            ]
          },
          "metadata": {},
          "execution_count": 14
        }
      ]
    },
    {
      "cell_type": "code",
      "source": [
        "train_dataset = []\n",
        "for s in dataset:\n",
        "    target_word, near_word = s.split(\"|\")\n",
        "    v_t = one_hot_encode(target_word, word_to_id)\n",
        "    v_n = one_hot_encode(near_word, word_to_id)\n",
        "    train_dataset.append([v_t, v_n])"
      ],
      "metadata": {
        "id": "ZTqGYgFzXF23"
      },
      "execution_count": 15,
      "outputs": []
    },
    {
      "cell_type": "code",
      "source": [
        "X = np.array(train_dataset)[:, 0]"
      ],
      "metadata": {
        "id": "oe2-uT6aXc2u"
      },
      "execution_count": 16,
      "outputs": []
    },
    {
      "cell_type": "code",
      "source": [
        "X"
      ],
      "metadata": {
        "colab": {
          "base_uri": "https://localhost:8080/"
        },
        "id": "M3qYOy5XXfuC",
        "outputId": "0ac02614-27b4-4e8f-a3da-9a071e6329ba"
      },
      "execution_count": 17,
      "outputs": [
        {
          "output_type": "execute_result",
          "data": {
            "text/plain": [
              "array([[0, 0, 0, 0, 0, 0, 0, 0, 1, 0],\n",
              "       [0, 0, 0, 0, 0, 0, 0, 1, 0, 0],\n",
              "       [0, 0, 0, 0, 0, 0, 0, 1, 0, 0],\n",
              "       [0, 0, 0, 0, 0, 0, 1, 0, 0, 0],\n",
              "       [0, 0, 0, 0, 0, 0, 1, 0, 0, 0],\n",
              "       [1, 0, 0, 0, 0, 0, 0, 0, 0, 0],\n",
              "       [1, 0, 0, 0, 0, 0, 0, 0, 0, 0],\n",
              "       [0, 0, 0, 1, 0, 0, 0, 0, 0, 0],\n",
              "       [0, 0, 0, 1, 0, 0, 0, 0, 0, 0],\n",
              "       [0, 0, 0, 0, 1, 0, 0, 0, 0, 0],\n",
              "       [0, 0, 0, 0, 1, 0, 0, 0, 0, 0],\n",
              "       [0, 0, 1, 0, 0, 0, 0, 0, 0, 0]])"
            ]
          },
          "metadata": {},
          "execution_count": 17
        }
      ]
    },
    {
      "cell_type": "code",
      "source": [
        "y = np.array(train_dataset)[:, 1]"
      ],
      "metadata": {
        "id": "OneUnBaiXVu8"
      },
      "execution_count": 18,
      "outputs": []
    },
    {
      "cell_type": "code",
      "source": [
        "y"
      ],
      "metadata": {
        "colab": {
          "base_uri": "https://localhost:8080/"
        },
        "id": "-bv96ARDXg28",
        "outputId": "d8a37fc1-91a3-4264-9898-cefebccd2e83"
      },
      "execution_count": 19,
      "outputs": [
        {
          "output_type": "execute_result",
          "data": {
            "text/plain": [
              "array([[0, 0, 0, 0, 0, 0, 0, 1, 0, 0],\n",
              "       [0, 0, 0, 0, 0, 0, 0, 0, 1, 0],\n",
              "       [0, 0, 0, 0, 0, 0, 1, 0, 0, 0],\n",
              "       [0, 0, 0, 0, 0, 0, 0, 1, 0, 0],\n",
              "       [1, 0, 0, 0, 0, 0, 0, 0, 0, 0],\n",
              "       [0, 0, 0, 0, 0, 0, 1, 0, 0, 0],\n",
              "       [0, 0, 0, 1, 0, 0, 0, 0, 0, 0],\n",
              "       [1, 0, 0, 0, 0, 0, 0, 0, 0, 0],\n",
              "       [0, 0, 0, 0, 1, 0, 0, 0, 0, 0],\n",
              "       [0, 0, 0, 1, 0, 0, 0, 0, 0, 0],\n",
              "       [0, 0, 1, 0, 0, 0, 0, 0, 0, 0],\n",
              "       [0, 0, 0, 0, 1, 0, 0, 0, 0, 0]])"
            ]
          },
          "metadata": {},
          "execution_count": 19
        }
      ]
    },
    {
      "cell_type": "markdown",
      "source": [
        "# 학습"
      ],
      "metadata": {
        "id": "Q4T10TulU2T3"
      }
    },
    {
      "cell_type": "code",
      "source": [
        "vec.shape"
      ],
      "metadata": {
        "colab": {
          "base_uri": "https://localhost:8080/"
        },
        "id": "UzudGSLrWii9",
        "outputId": "f27f70cf-fa74-4118-9723-26405b563ee2"
      },
      "execution_count": 20,
      "outputs": [
        {
          "output_type": "execute_result",
          "data": {
            "text/plain": [
              "(10,)"
            ]
          },
          "metadata": {},
          "execution_count": 20
        }
      ]
    },
    {
      "cell_type": "code",
      "source": [
        "model = Sequential()\n",
        "model.add(Dense(4, input_dim=10, activation='sigmoid'))\n",
        "# model.add(Activation('sigmoid'))\n",
        "model.add(Dense(10, activation='softmax'))"
      ],
      "metadata": {
        "id": "N37d8sdgA5hh"
      },
      "execution_count": 21,
      "outputs": []
    },
    {
      "cell_type": "code",
      "source": [
        "model.summary()"
      ],
      "metadata": {
        "colab": {
          "base_uri": "https://localhost:8080/"
        },
        "id": "Fyq4yeQORotA",
        "outputId": "f25ede1b-6f2a-41bc-eeb0-4d0ce7b0cef5"
      },
      "execution_count": 22,
      "outputs": [
        {
          "output_type": "stream",
          "name": "stdout",
          "text": [
            "Model: \"sequential\"\n",
            "_________________________________________________________________\n",
            " Layer (type)                Output Shape              Param #   \n",
            "=================================================================\n",
            " dense (Dense)               (None, 4)                 44        \n",
            "                                                                 \n",
            " dense_1 (Dense)             (None, 10)                50        \n",
            "                                                                 \n",
            "=================================================================\n",
            "Total params: 94 (376.00 Byte)\n",
            "Trainable params: 94 (376.00 Byte)\n",
            "Non-trainable params: 0 (0.00 Byte)\n",
            "_________________________________________________________________\n"
          ]
        }
      ]
    },
    {
      "cell_type": "code",
      "source": [
        "model.get_weights()"
      ],
      "metadata": {
        "colab": {
          "base_uri": "https://localhost:8080/"
        },
        "id": "YvVU4hedWuMz",
        "outputId": "7931cbb6-ab45-479f-d84c-ba7caf8c94d7"
      },
      "execution_count": 23,
      "outputs": [
        {
          "output_type": "execute_result",
          "data": {
            "text/plain": [
              "[array([[ 0.025222  ,  0.5741552 ,  0.12080562,  0.58569634],\n",
              "        [-0.17288923, -0.53699154, -0.10514653, -0.37629822],\n",
              "        [-0.00643104,  0.32681537,  0.37029803,  0.49319208],\n",
              "        [-0.46791232,  0.3510108 , -0.5683162 ,  0.63657725],\n",
              "        [-0.45151284,  0.59349203,  0.6508167 ,  0.49399698],\n",
              "        [-0.38183302, -0.2771536 ,  0.18781239,  0.25211954],\n",
              "        [-0.4580205 ,  0.6142229 ,  0.39805162,  0.39641607],\n",
              "        [-0.2982262 ,  0.19697106, -0.44225937,  0.01033789],\n",
              "        [-0.25580698, -0.15870923, -0.6123342 ,  0.45341074],\n",
              "        [ 0.6234586 , -0.31699985, -0.08031052,  0.6312946 ]],\n",
              "       dtype=float32),\n",
              " array([0., 0., 0., 0.], dtype=float32),\n",
              " array([[ 0.08191222, -0.2020253 , -0.6363144 ,  0.07000446, -0.4834938 ,\n",
              "         -0.46385658, -0.5245047 ,  0.28593647,  0.14429086,  0.47130823],\n",
              "        [ 0.6046009 ,  0.03957403, -0.30752337,  0.37485206,  0.406986  ,\n",
              "         -0.02769822,  0.05116451, -0.11048752, -0.49683988,  0.1785934 ],\n",
              "        [-0.36687618, -0.41902134, -0.22548577,  0.06261075,  0.33444726,\n",
              "          0.03517628, -0.07046616, -0.5247999 , -0.56454074, -0.23212439],\n",
              "        [ 0.10095888, -0.28114197,  0.49085724, -0.46832722,  0.03405827,\n",
              "          0.48717844, -0.11571562, -0.30274102,  0.49859762, -0.05189168]],\n",
              "       dtype=float32),\n",
              " array([0., 0., 0., 0., 0., 0., 0., 0., 0., 0.], dtype=float32)]"
            ]
          },
          "metadata": {},
          "execution_count": 23
        }
      ]
    },
    {
      "cell_type": "code",
      "source": [
        "for w in model.get_weights():\n",
        "    print(w.shape)"
      ],
      "metadata": {
        "colab": {
          "base_uri": "https://localhost:8080/"
        },
        "id": "uLD6wU7WW52d",
        "outputId": "56d64112-e660-4b2c-b126-6962bc9693a2"
      },
      "execution_count": 24,
      "outputs": [
        {
          "output_type": "stream",
          "name": "stdout",
          "text": [
            "(10, 4)\n",
            "(4,)\n",
            "(4, 10)\n",
            "(10,)\n"
          ]
        }
      ]
    },
    {
      "cell_type": "code",
      "source": [
        "model.compile(optimizer='adam', loss='categorical_crossentropy')"
      ],
      "metadata": {
        "id": "jMzs664VXmBH"
      },
      "execution_count": 25,
      "outputs": []
    },
    {
      "cell_type": "code",
      "source": [
        "history = model.fit(X, y, epochs=1000, verbose=0)"
      ],
      "metadata": {
        "id": "1NQuS0zsW783"
      },
      "execution_count": 26,
      "outputs": []
    },
    {
      "cell_type": "code",
      "source": [
        "plt.plot(history.history['loss'])"
      ],
      "metadata": {
        "colab": {
          "base_uri": "https://localhost:8080/",
          "height": 447
        },
        "id": "UzJ0Cg4wfvEu",
        "outputId": "21cc70e8-87b8-40e3-fa66-998c58befc7d"
      },
      "execution_count": 27,
      "outputs": [
        {
          "output_type": "execute_result",
          "data": {
            "text/plain": [
              "[<matplotlib.lines.Line2D at 0x7eb2294e8f40>]"
            ]
          },
          "metadata": {},
          "execution_count": 27
        },
        {
          "output_type": "display_data",
          "data": {
            "text/plain": [
              "<Figure size 640x480 with 1 Axes>"
            ],
            "image/png": "[encoded data removed]"
          },
          "metadata": {}
        }
      ]
    },
    {
      "cell_type": "code",
      "source": [
        "history = model.fit(X, y, epochs=1000, verbose=0)"
      ],
      "metadata": {
        "id": "skiLq62vguzd"
      },
      "execution_count": 28,
      "outputs": []
    },
    {
      "cell_type": "code",
      "source": [
        "plt.plot(history.history['loss'])"
      ],
      "metadata": {
        "colab": {
          "base_uri": "https://localhost:8080/",
          "height": 452
        },
        "id": "5IcVo1mGgvzn",
        "outputId": "c6e71882-6504-4846-8925-c9eb40b95686"
      },
      "execution_count": 29,
      "outputs": [
        {
          "output_type": "execute_result",
          "data": {
            "text/plain": [
              "[<matplotlib.lines.Line2D at 0x7eb239560e80>]"
            ]
          },
          "metadata": {},
          "execution_count": 29
        },
        {
          "output_type": "display_data",
          "data": {
            "text/plain": [
              "<Figure size 640x480 with 1 Axes>"
            ],
            "image/png": "[encoded data removed]"
          },
          "metadata": {}
        }
      ]
    },
    {
      "cell_type": "code",
      "source": [
        "model.get_weights()[0]"
      ],
      "metadata": {
        "colab": {
          "base_uri": "https://localhost:8080/"
        },
        "id": "DBIimBIEgHSm",
        "outputId": "5a65f8bd-809a-4ec2-ca63-a3b80748da82"
      },
      "execution_count": 30,
      "outputs": [
        {
          "output_type": "execute_result",
          "data": {
            "text/plain": [
              "array([[ 1.5499657 , -0.6742699 ,  2.2521868 , -0.59803236],\n",
              "       [-0.17288923, -0.53699154, -0.10514653, -0.37629822],\n",
              "       [-1.998232  ,  2.5030608 ,  1.8690555 ,  2.8803523 ],\n",
              "       [-2.5529888 ,  2.1997328 , -1.4694791 ,  2.6128314 ],\n",
              "       [-2.184122  , -1.7199849 ,  2.8535922 ,  0.98052835],\n",
              "       [-0.38183302, -0.2771536 ,  0.18781239,  0.25211954],\n",
              "       [ 0.09692473,  2.799958  , -1.691872  , -1.5586991 ],\n",
              "       [ 1.737692  , -1.5953758 , -1.5042559 ,  2.0503397 ],\n",
              "       [ 1.6490554 ,  1.407033  , -2.3048713 , -1.6654625 ],\n",
              "       [ 0.6234586 , -0.31699985, -0.08031052,  0.6312946 ]],\n",
              "      dtype=float32)"
            ]
          },
          "metadata": {},
          "execution_count": 30
        }
      ]
    },
    {
      "cell_type": "markdown",
      "source": [
        "# 학습된 가중치들의 시각화"
      ],
      "metadata": {
        "id": "UwDE20lgJ4ae"
      }
    },
    {
      "cell_type": "code",
      "source": [
        "from sklearn.decomposition import PCA"
      ],
      "metadata": {
        "id": "0w3ovPm8KCQ5"
      },
      "execution_count": 31,
      "outputs": []
    },
    {
      "cell_type": "code",
      "source": [
        "vectors_input = model.get_weights()[0]"
      ],
      "metadata": {
        "id": "6-qElM5TgQKr"
      },
      "execution_count": 32,
      "outputs": []
    },
    {
      "cell_type": "code",
      "source": [
        "# PCA로 2D로 변환\n",
        "pca = PCA(n_components=2)\n",
        "result = pca.fit_transform(vectors_input)"
      ],
      "metadata": {
        "id": "srjElZ8LKARd"
      },
      "execution_count": 33,
      "outputs": []
    },
    {
      "cell_type": "code",
      "source": [
        "result"
      ],
      "metadata": {
        "colab": {
          "base_uri": "https://localhost:8080/"
        },
        "id": "XlNXD-c3KEpc",
        "outputId": "5ca48175-2404-4ac0-9d57-93cca99a4cc9"
      },
      "execution_count": 34,
      "outputs": [
        {
          "output_type": "execute_result",
          "data": {
            "text/plain": [
              "array([[ 0.01263171, -2.7377656 ],\n",
              "       [ 0.41905677, -0.867684  ],\n",
              "       [-3.1653554 ,  2.184176  ],\n",
              "       [-1.2942581 ,  3.5167408 ],\n",
              "       [-3.422619  , -1.8447075 ],\n",
              "       [-0.18099713, -0.5538835 ],\n",
              "       [ 2.626861  ,  1.9693716 ],\n",
              "       [ 0.91940975, -1.3321272 ],\n",
              "       [ 3.7469566 ,  0.47350723],\n",
              "       [ 0.338315  , -0.8076279 ]], dtype=float32)"
            ]
          },
          "metadata": {},
          "execution_count": 34
        }
      ]
    },
    {
      "cell_type": "code",
      "source": [
        "sorted(word_to_id.items(), key=operator.itemgetter(1))"
      ],
      "metadata": {
        "colab": {
          "base_uri": "https://localhost:8080/"
        },
        "id": "S5EEoJQmKgQe",
        "outputId": "db8cd686-7464-4120-f151-6420eecf336e"
      },
      "execution_count": 35,
      "outputs": [
        {
          "output_type": "execute_result",
          "data": {
            "text/plain": [
              "[('에', 0),\n",
              " ('고양이', 1),\n",
              " ('이', 2),\n",
              " ('있어', 3),\n",
              " ('맛집', 4),\n",
              " ('찾아줘', 5),\n",
              " ('어딘가', 6),\n",
              " ('동네', 7),\n",
              " ('우리', 8),\n",
              " ('강아지', 9)]"
            ]
          },
          "metadata": {},
          "execution_count": 35
        }
      ]
    },
    {
      "cell_type": "code",
      "source": [
        "# 시각화\n",
        "plt.scatter(result[:, 0], result[:, 1])\n",
        "for i, word in enumerate(word_to_id):\n",
        "    plt.annotate(word, xy=(result[i, 0], result[i, 1]))\n",
        "plt.show()"
      ],
      "metadata": {
        "colab": {
          "base_uri": "https://localhost:8080/",
          "height": 1000
        },
        "id": "chc5hi3kKGCw",
        "outputId": "230293c2-4fa5-4dbf-c6be-ffffbdc1e4f0"
      },
      "execution_count": 36,
      "outputs": [
        {
          "output_type": "stream",
          "name": "stderr",
          "text": [
            "/usr/local/lib/python3.10/dist-packages/IPython/core/pylabtools.py:151: UserWarning: Glyph 50640 (\\N{HANGUL SYLLABLE E}) missing from current font.\n",
            "  fig.canvas.print_figure(bytes_io, **kw)\n",
            "/usr/local/lib/python3.10/dist-packages/IPython/core/pylabtools.py:151: UserWarning: Glyph 44256 (\\N{HANGUL SYLLABLE GO}) missing from current font.\n",
            "  fig.canvas.print_figure(bytes_io, **kw)\n",
            "/usr/local/lib/python3.10/dist-packages/IPython/core/pylabtools.py:151: UserWarning: Glyph 50577 (\\N{HANGUL SYLLABLE YANG}) missing from current font.\n",
            "  fig.canvas.print_figure(bytes_io, **kw)\n",
            "/usr/local/lib/python3.10/dist-packages/IPython/core/pylabtools.py:151: UserWarning: Glyph 51060 (\\N{HANGUL SYLLABLE I}) missing from current font.\n",
            "  fig.canvas.print_figure(bytes_io, **kw)\n",
            "/usr/local/lib/python3.10/dist-packages/IPython/core/pylabtools.py:151: UserWarning: Glyph 51080 (\\N{HANGUL SYLLABLE ISS}) missing from current font.\n",
            "  fig.canvas.print_figure(bytes_io, **kw)\n",
            "/usr/local/lib/python3.10/dist-packages/IPython/core/pylabtools.py:151: UserWarning: Glyph 50612 (\\N{HANGUL SYLLABLE EO}) missing from current font.\n",
            "  fig.canvas.print_figure(bytes_io, **kw)\n",
            "/usr/local/lib/python3.10/dist-packages/IPython/core/pylabtools.py:151: UserWarning: Glyph 47579 (\\N{HANGUL SYLLABLE MAS}) missing from current font.\n",
            "  fig.canvas.print_figure(bytes_io, **kw)\n",
            "/usr/local/lib/python3.10/dist-packages/IPython/core/pylabtools.py:151: UserWarning: Glyph 51665 (\\N{HANGUL SYLLABLE JIB}) missing from current font.\n",
            "  fig.canvas.print_figure(bytes_io, **kw)\n",
            "/usr/local/lib/python3.10/dist-packages/IPython/core/pylabtools.py:151: UserWarning: Glyph 52286 (\\N{HANGUL SYLLABLE CAJ}) missing from current font.\n",
            "  fig.canvas.print_figure(bytes_io, **kw)\n",
            "/usr/local/lib/python3.10/dist-packages/IPython/core/pylabtools.py:151: UserWarning: Glyph 50500 (\\N{HANGUL SYLLABLE A}) missing from current font.\n",
            "  fig.canvas.print_figure(bytes_io, **kw)\n",
            "/usr/local/lib/python3.10/dist-packages/IPython/core/pylabtools.py:151: UserWarning: Glyph 51480 (\\N{HANGUL SYLLABLE JWEO}) missing from current font.\n",
            "  fig.canvas.print_figure(bytes_io, **kw)\n",
            "/usr/local/lib/python3.10/dist-packages/IPython/core/pylabtools.py:151: UserWarning: Glyph 46360 (\\N{HANGUL SYLLABLE DIN}) missing from current font.\n",
            "  fig.canvas.print_figure(bytes_io, **kw)\n",
            "/usr/local/lib/python3.10/dist-packages/IPython/core/pylabtools.py:151: UserWarning: Glyph 44032 (\\N{HANGUL SYLLABLE GA}) missing from current font.\n",
            "  fig.canvas.print_figure(bytes_io, **kw)\n",
            "/usr/local/lib/python3.10/dist-packages/IPython/core/pylabtools.py:151: UserWarning: Glyph 46041 (\\N{HANGUL SYLLABLE DONG}) missing from current font.\n",
            "  fig.canvas.print_figure(bytes_io, **kw)\n",
            "/usr/local/lib/python3.10/dist-packages/IPython/core/pylabtools.py:151: UserWarning: Glyph 45348 (\\N{HANGUL SYLLABLE NE}) missing from current font.\n",
            "  fig.canvas.print_figure(bytes_io, **kw)\n",
            "/usr/local/lib/python3.10/dist-packages/IPython/core/pylabtools.py:151: UserWarning: Glyph 50864 (\\N{HANGUL SYLLABLE U}) missing from current font.\n",
            "  fig.canvas.print_figure(bytes_io, **kw)\n",
            "/usr/local/lib/python3.10/dist-packages/IPython/core/pylabtools.py:151: UserWarning: Glyph 47532 (\\N{HANGUL SYLLABLE RI}) missing from current font.\n",
            "  fig.canvas.print_figure(bytes_io, **kw)\n",
            "/usr/local/lib/python3.10/dist-packages/IPython/core/pylabtools.py:151: UserWarning: Glyph 44053 (\\N{HANGUL SYLLABLE GANG}) missing from current font.\n",
            "  fig.canvas.print_figure(bytes_io, **kw)\n",
            "/usr/local/lib/python3.10/dist-packages/IPython/core/pylabtools.py:151: UserWarning: Glyph 51648 (\\N{HANGUL SYLLABLE JI}) missing from current font.\n",
            "  fig.canvas.print_figure(bytes_io, **kw)\n"
          ]
        },
        {
          "output_type": "display_data",
          "data": {
            "text/plain": [
              "<Figure size 640x480 with 1 Axes>"
            ],
            "image/png": "[encoded data removed]"
          },
          "metadata": {}
        }
      ]
    },
    {
      "cell_type": "code",
      "source": [
        "import matplotlib.pyplot as plt\n",
        "plt.rc('font', family='NanumBarunGothic')"
      ],
      "metadata": {
        "id": "hRjl09eGKVDj"
      },
      "execution_count": 37,
      "outputs": []
    },
    {
      "cell_type": "code",
      "source": [
        "# 시각화\n",
        "plt.scatter(result[:, 0], result[:, 1])\n",
        "for i, word in enumerate(word_to_id):\n",
        "    plt.annotate(word, xy=(result[i, 0], result[i, 1]))\n",
        "plt.show()"
      ],
      "metadata": {
        "colab": {
          "base_uri": "https://localhost:8080/",
          "height": 465
        },
        "id": "g4Kgb8qCK7kd",
        "outputId": "e2b7ad2a-ce0e-4d53-eccb-641a4a524f26"
      },
      "execution_count": 38,
      "outputs": [
        {
          "output_type": "stream",
          "name": "stderr",
          "text": [
            "/usr/local/lib/python3.10/dist-packages/IPython/core/pylabtools.py:151: UserWarning: Glyph 8722 (\\N{MINUS SIGN}) missing from current font.\n",
            "  fig.canvas.print_figure(bytes_io, **kw)\n"
          ]
        },
        {
          "output_type": "display_data",
          "data": {
            "text/plain": [
              "<Figure size 640x480 with 1 Axes>"
            ],
            "image/png": "[encoded data removed]"
          },
          "metadata": {}
        }
      ]
    },
    {
      "cell_type": "markdown",
      "source": [
        "이제 여러분의 데이터로 해보세요!"
      ],
      "metadata": {
        "id": "cX7fsE40MO4K"
      }
    }
  ]
}